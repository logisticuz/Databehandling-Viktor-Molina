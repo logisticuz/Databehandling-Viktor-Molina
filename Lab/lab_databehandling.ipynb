{
 "cells": [
  {
   "cell_type": "markdown",
   "metadata": {},
   "source": [
    "# Uppgift 1 \n",
    "- uppvärmning covid-19 data\n",
    "\n",
    "- Importerar pandas osv\n",
    "- laddar filer \n",
    "- - laddar bladet \"Veckodata Riket\""
   ]
  },
  {
   "cell_type": "code",
   "execution_count": null,
   "metadata": {},
   "outputs": [],
   "source": [
    "import pandas as pd\n",
    "import seaborn\n",
    "import plotly\n",
    "\n",
    "covid_data_directory = 'C:\\\\Users\\\\vikto\\\\Documents\\\\GitHub\\Databehandling-Viktor-Molina\\\\Lab\\\\filer\\\\Folkhalsomyndigheten_Covid19.xlsx'\n",
    "vaccine_data_directory = 'C:\\\\Users\\\\vikto\\\\Documents\\\\GitHub\\Databehandling-Viktor-Molina\\Lab\\\\filer\\\\Folkhalsomyndigheten_Covid19_Vaccine.xlsx'\n",
    "\n",
    "\n",
    "covid_data = pd.read_excel(covid_data_directory, sheet_name='Veckodata Riket')"
   ]
  },
  {
   "cell_type": "markdown",
   "metadata": {},
   "source": [
    "#  Initial dataanalys\n"
   ]
  },
  {
   "cell_type": "markdown",
   "metadata": {},
   "source": [
    "# covid_data.info()\n",
    "\n",
    "- Listar information om datatyper och dylikt\n",
    "- Det är 142 rader från 0 till 141\n",
    "- det är 13 kolumner\n",
    "- det finns 142 non-null vilket betyder att det finns inget tomt värde i någon kolumn.\n",
    "- dtypes = datatyper för varje kolumn. Här kan vi se att det finns 2 kolumner med float64 och 11 kolumner med int64\n"
   ]
  },
  {
   "cell_type": "code",
   "execution_count": null,
   "metadata": {},
   "outputs": [],
   "source": [
    "covid_data.info()"
   ]
  },
  {
   "cell_type": "markdown",
   "metadata": {},
   "source": [
    "# covid_data.describe()\n",
    "- Denna metod visar en statisktisk sammanfattning av datan i dataframe \n",
    "- - Den visar olika omfång på datan som Count, Mean, STD, Min, Max, Första kvartilen, median och tredje kvartilen.\n",
    "\n",
    "**Vi tittar på kolumnen \"Antal_fall_vecka\"**\n",
    "- **Count:** Denna visar antal icke-null dvs icke tomma värden i varje kolumn \n",
    "- - Det finns 142 icke-null värden\n",
    "- **Mean:** Visar genomsnittliga värdet eller medelvärdet av alla värden i varje kolumn.\n",
    "- - genomsnittligt antal fall per vecka är ca 18 378\n",
    "- **STD (standardavvikelse):** Denna visar hur mycket värdena varierar i en kolumn och eller sprids ut från medelvärdet. Om standardavvikelsen är hög så är värdena mer spridda.\n",
    "- - 38569.455753 = stor avvikelse = stor variation på antal fall från vecka till vecka.\n",
    "- **min:** det minsta värdet i varje kolumn\n",
    "- - Veckor utan rapporterade fall = 0\n",
    "- **25%(första kvartilen):** 25% av värdena i kolumnen är mindre än detta värde\n",
    "- - 25% av veckorna hade 3 075 fall eller färre.\n",
    "- **50%(median):** hälften av värdena i kolumnen är mindre än detta värde\n",
    "- - 50% av veckorna hade 5 531 fall eller färre\n",
    "- **75%(tredje kvartilen):** 75% av värdena i kolumnen är mindre än detta värde\n",
    "- - 75% av av veckorna hade 21 125 fall eller färre\n",
    "- **max:** största värdet i varje kolumn\n",
    "- - den vecka med högst antal fall hade 26 5043"
   ]
  },
  {
   "cell_type": "code",
   "execution_count": null,
   "metadata": {},
   "outputs": [],
   "source": [
    "covid_data.describe()"
   ]
  },
  {
   "cell_type": "markdown",
   "metadata": {},
   "source": [
    "# covid_data.head()\n",
    "\n",
    "- Listar dom 5 första inklusive rad 0 som standard\n",
    "- om man sätter in en siffra i () så får jag antalet rader som står där. <br>\n",
    "Men man måste tänka på att den börjar från 0 dvs med 0 inkluderad, så skriver jag 50 så kommer den visa upp till rad 49."
   ]
  },
  {
   "cell_type": "code",
   "execution_count": null,
   "metadata": {},
   "outputs": [],
   "source": [
    "covid_data.head()"
   ]
  },
  {
   "cell_type": "markdown",
   "metadata": {},
   "source": [
    "# covid_data.value_counts()\n",
    "- Räknar antalet unika värden i en kolumn. Kan användas till tex kategorisk data.\n",
    "- Visar antalet icke-nullvärden i varje kolumn.\n",
    "- - Här kan vi se att den har 142 \n",
    "- - om vi kör **covid_data['år'].value_counts()** så kan man konstatera att datan i dataframe handlar om 3 år 2021, 2020 och 2022.<br>\n",
    "På varje år så kan man också se hur många datapunkter/värden det finns där man kan tolka att värdena=veckor."
   ]
  },
  {
   "cell_type": "code",
   "execution_count": null,
   "metadata": {},
   "outputs": [],
   "source": [
    "#covid_data.value_counts()\n",
    "\n",
    "covid_data['år'].value_counts()"
   ]
  },
  {
   "cell_type": "markdown",
   "metadata": {},
   "source": [
    "# covid_data.columns\n",
    "\n",
    "- Visar rubrikerna till varje kolumn\n",
    "- Detta gör det enklare att navigera ett dokument och pin pointa vad man vill kolla på."
   ]
  },
  {
   "cell_type": "code",
   "execution_count": null,
   "metadata": {},
   "outputs": [],
   "source": [
    "covid_data.columns\n"
   ]
  },
  {
   "cell_type": "markdown",
   "metadata": {},
   "source": [
    "# covid_data.index\n",
    "- Visar indexet för DataFrame.\n",
    "- Index är som radnummer i Excel.\n",
    "- Index är bra för att hitta och identifiera data. Man kollar på kolumn + index.\n",
    "- I outputen kan vi se RangeIndex(start=0, stop=142, step=1)\n",
    "- - Start är startvärdet där bladet börjar då som är 0\n",
    "- - Stop är det sista indexvärdet som i detta fallet är 142.<br>\n",
    "En sak som är viktig att notera är att det verkliga sista indexvärdet är\n",
    "141 dvs stop - 1.\n",
    "- - Step är ett stegvärde för indexet. Så varje stegvärde ökar med 1 från det värdet innan."
   ]
  },
  {
   "cell_type": "code",
   "execution_count": 23,
   "metadata": {},
   "outputs": [
    {
     "data": {
      "text/plain": [
       "RangeIndex(start=0, stop=142, step=1)"
      ]
     },
     "execution_count": 23,
     "metadata": {},
     "output_type": "execute_result"
    }
   ],
   "source": [
    "covid_data.index"
   ]
  },
  {
   "cell_type": "code",
   "execution_count": 22,
   "metadata": {},
   "outputs": [],
   "source": [
    "covid_data['år'] = covid_data['år'].astype(str)\n",
    "covid_data['veckonummer'] = covid_data['veckonummer'].astype(str)\n",
    "\n",
    "covid_data['Vecka'] = covid_data['år'] + 'v' + covid_data['veckonummer']"
   ]
  },
  {
   "cell_type": "code",
   "execution_count": 24,
   "metadata": {},
   "outputs": [
    {
     "name": "stdout",
     "output_type": "stream",
     "text": [
      "     år veckonummer  Antal_fall_vecka  Antal_fall_100000inv_vecka  \\\n",
      "0  2020           6                 1                           0   \n",
      "1  2020           7                 0                           0   \n",
      "2  2020           8                 0                           0   \n",
      "3  2020           9                13                           0   \n",
      "4  2020          10               211                           2   \n",
      "\n",
      "   Antal_fall_100000inv_14dagar  Kum_antal_fall  Kum_fall_100000inv  \\\n",
      "0                             0               1                   0   \n",
      "1                             0               1                   0   \n",
      "2                             0               1                   0   \n",
      "3                             0              14                   0   \n",
      "4                             2             225                   2   \n",
      "\n",
      "   Antal_nyaintensivvårdade_vecka  Kum_antal_intensivvårdade  \\\n",
      "0                               0                          0   \n",
      "1                               0                          0   \n",
      "2                               0                          0   \n",
      "3                               0                          0   \n",
      "4                               3                          3   \n",
      "\n",
      "   Antal_avlidna_vecka  Antal_avlidna_milj_inv_vecka  Kum_antal_avlidna  \\\n",
      "0                    0                           0.0                  0   \n",
      "1                    0                           0.0                  0   \n",
      "2                    0                           0.0                  0   \n",
      "3                    0                           0.0                  0   \n",
      "4                    0                           0.0                  0   \n",
      "\n",
      "   Kum_antal_avlidna_milj_inv    Vecka  \n",
      "0                         0.0   2020v6  \n",
      "1                         0.0   2020v7  \n",
      "2                         0.0   2020v8  \n",
      "3                         0.0   2020v9  \n",
      "4                         0.0  2020v10  \n"
     ]
    }
   ],
   "source": [
    "print(covid_data.head())"
   ]
  },
  {
   "cell_type": "code",
   "execution_count": 25,
   "metadata": {},
   "outputs": [
    {
     "name": "stdout",
     "output_type": "stream",
     "text": [
      "0     2020v6\n",
      "1     2020v7\n",
      "2     2020v8\n",
      "3     2020v9\n",
      "4    2020v10\n",
      "Name: Vecka, dtype: object\n"
     ]
    }
   ],
   "source": [
    "print(covid_data['Vecka'].head())"
   ]
  },
  {
   "cell_type": "code",
   "execution_count": 26,
   "metadata": {},
   "outputs": [
    {
     "name": "stdout",
     "output_type": "stream",
     "text": [
      "Index(['år', 'veckonummer', 'Antal_fall_vecka', 'Antal_fall_100000inv_vecka',\n",
      "       'Antal_fall_100000inv_14dagar', 'Kum_antal_fall', 'Kum_fall_100000inv',\n",
      "       'Antal_nyaintensivvårdade_vecka', 'Kum_antal_intensivvårdade',\n",
      "       'Antal_avlidna_vecka', 'Antal_avlidna_milj_inv_vecka',\n",
      "       'Kum_antal_avlidna', 'Kum_antal_avlidna_milj_inv', 'Vecka'],\n",
      "      dtype='object')\n"
     ]
    }
   ],
   "source": [
    "print(covid_data.columns)"
   ]
  },
  {
   "cell_type": "code",
   "execution_count": 27,
   "metadata": {},
   "outputs": [
    {
     "name": "stdout",
     "output_type": "stream",
     "text": [
      "<class 'pandas.core.frame.DataFrame'>\n",
      "RangeIndex: 142 entries, 0 to 141\n",
      "Data columns (total 14 columns):\n",
      " #   Column                          Non-Null Count  Dtype  \n",
      "---  ------                          --------------  -----  \n",
      " 0   år                              142 non-null    object \n",
      " 1   veckonummer                     142 non-null    object \n",
      " 2   Antal_fall_vecka                142 non-null    int64  \n",
      " 3   Antal_fall_100000inv_vecka      142 non-null    int64  \n",
      " 4   Antal_fall_100000inv_14dagar    142 non-null    int64  \n",
      " 5   Kum_antal_fall                  142 non-null    int64  \n",
      " 6   Kum_fall_100000inv              142 non-null    int64  \n",
      " 7   Antal_nyaintensivvårdade_vecka  142 non-null    int64  \n",
      " 8   Kum_antal_intensivvårdade       142 non-null    int64  \n",
      " 9   Antal_avlidna_vecka             142 non-null    int64  \n",
      " 10  Antal_avlidna_milj_inv_vecka    142 non-null    float64\n",
      " 11  Kum_antal_avlidna               142 non-null    int64  \n",
      " 12  Kum_antal_avlidna_milj_inv      142 non-null    float64\n",
      " 13  Vecka                           142 non-null    object \n",
      "dtypes: float64(2), int64(9), object(3)\n",
      "memory usage: 15.7+ KB\n",
      "None\n"
     ]
    }
   ],
   "source": [
    "print(covid_data.info())"
   ]
  },
  {
   "cell_type": "code",
   "execution_count": 28,
   "metadata": {},
   "outputs": [
    {
     "name": "stdout",
     "output_type": "stream",
     "text": [
      "       Antal_fall_vecka  Antal_fall_100000inv_vecka  \\\n",
      "count        142.000000                  142.000000   \n",
      "mean       18378.345070                  177.197183   \n",
      "std        38569.455753                  371.689114   \n",
      "min            0.000000                    0.000000   \n",
      "25%         3075.000000                   30.000000   \n",
      "50%         5531.000000                   53.000000   \n",
      "75%        21125.000000                  203.500000   \n",
      "max       265043.000000                 2554.000000   \n",
      "\n",
      "       Antal_fall_100000inv_14dagar  Kum_antal_fall  Kum_fall_100000inv  \\\n",
      "count                    142.000000    1.420000e+02          142.000000   \n",
      "mean                     354.169014    1.125288e+06        10843.281690   \n",
      "std                      725.677174    9.618084e+05         9265.100705   \n",
      "min                        0.000000    1.000000e+00            0.000000   \n",
      "25%                       59.750000    1.014860e+05          982.500000   \n",
      "50%                      107.500000    1.085848e+06        10461.500000   \n",
      "75%                      421.250000    2.423603e+06        23350.500000   \n",
      "max                     5024.000000    2.609725e+06        25144.000000   \n",
      "\n",
      "       Antal_nyaintensivvårdade_vecka  Kum_antal_intensivvårdade  \\\n",
      "count                      142.000000                 142.000000   \n",
      "mean                        67.176056                6000.464789   \n",
      "std                         73.435000                3076.853993   \n",
      "min                          0.000000                   0.000000   \n",
      "25%                         14.000000                2643.750000   \n",
      "50%                         27.500000                7559.500000   \n",
      "75%                        109.000000                8863.250000   \n",
      "max                        289.000000                9539.000000   \n",
      "\n",
      "       Antal_avlidna_vecka  Antal_avlidna_milj_inv_vecka  Kum_antal_avlidna  \\\n",
      "count           142.000000                    142.000000         142.000000   \n",
      "mean            144.936620                     14.000000       12321.154930   \n",
      "std             173.659331                     16.796551        6103.235009   \n",
      "min               0.000000                      0.000000           0.000000   \n",
      "25%              25.250000                      2.425000        5880.000000   \n",
      "50%              77.500000                      7.450000       14610.500000   \n",
      "75%             185.500000                     17.950000       17177.750000   \n",
      "max             664.000000                     64.300003       20581.000000   \n",
      "\n",
      "       Kum_antal_avlidna_milj_inv  \n",
      "count                  142.000000  \n",
      "mean                  1187.840841  \n",
      "std                    587.255605  \n",
      "min                      0.000000  \n",
      "25%                    569.375000  \n",
      "50%                   1407.650024  \n",
      "75%                   1654.999969  \n",
      "max                   1982.900024  \n"
     ]
    }
   ],
   "source": [
    "print(covid_data.describe())"
   ]
  }
 ],
 "metadata": {
  "kernelspec": {
   "display_name": "myenv",
   "language": "python",
   "name": "myenv"
  },
  "language_info": {
   "codemirror_mode": {
    "name": "ipython",
    "version": 3
   },
   "file_extension": ".py",
   "mimetype": "text/x-python",
   "name": "python",
   "nbconvert_exporter": "python",
   "pygments_lexer": "ipython3",
   "version": "3.11.5"
  }
 },
 "nbformat": 4,
 "nbformat_minor": 2
}
