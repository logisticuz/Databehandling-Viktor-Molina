{
 "cells": [
  {
   "cell_type": "markdown",
   "metadata": {},
   "source": [
    "# Uppgift 1 \n",
    "- uppvärmning covid-19 data\n",
    "\n",
    "- Importerar pandas osv\n",
    "- laddar filer \n",
    "- - laddar bladet \"Veckodata Riket\""
   ]
  },
  {
   "cell_type": "code",
   "execution_count": 1,
   "metadata": {},
   "outputs": [],
   "source": [
    "import pandas as pd\n",
    "import seaborn as sns\n",
    "import plotly.express as px\n",
    "import matplotlib.pyplot as plt\n",
    "import os\n",
    "from pathlib import Path\n",
    "\n",
    "covid_data_directory = '../filer\\\\Folkhalsomyndigheten_Covid19.xlsx'\n",
    "vaccin_data_directory = '../filer\\\\Folkhalsomyndigheten_Covid19_Vaccine.xlsx'\n",
    "\n",
    "\n",
    "covid_data = pd.read_excel(covid_data_directory, sheet_name='Veckodata Riket')"
   ]
  },
  {
   "cell_type": "markdown",
   "metadata": {},
   "source": [
    "#  Initial dataanalys\n"
   ]
  },
  {
   "cell_type": "markdown",
   "metadata": {},
   "source": [
    "# covid_data.info()\n",
    "\n",
    "- Listar information om datatyper och dylikt\n",
    "- Det är 142 rader från 0 till 141\n",
    "- det är 13 kolumner\n",
    "- det finns 142 non-null vilket betyder att det finns inget tomt värde i någon kolumn.\n",
    "- dtypes = datatyper för varje kolumn. Här kan vi se att det finns 2 kolumner med float64 och 11 kolumner med int64\n"
   ]
  },
  {
   "cell_type": "code",
   "execution_count": 2,
   "metadata": {},
   "outputs": [
    {
     "name": "stdout",
     "output_type": "stream",
     "text": [
      "<class 'pandas.core.frame.DataFrame'>\n",
      "RangeIndex: 142 entries, 0 to 141\n",
      "Data columns (total 13 columns):\n",
      " #   Column                          Non-Null Count  Dtype  \n",
      "---  ------                          --------------  -----  \n",
      " 0   år                              142 non-null    int64  \n",
      " 1   veckonummer                     142 non-null    int64  \n",
      " 2   Antal_fall_vecka                142 non-null    int64  \n",
      " 3   Antal_fall_100000inv_vecka      142 non-null    int64  \n",
      " 4   Antal_fall_100000inv_14dagar    142 non-null    int64  \n",
      " 5   Kum_antal_fall                  142 non-null    int64  \n",
      " 6   Kum_fall_100000inv              142 non-null    int64  \n",
      " 7   Antal_nyaintensivvårdade_vecka  142 non-null    int64  \n",
      " 8   Kum_antal_intensivvårdade       142 non-null    int64  \n",
      " 9   Antal_avlidna_vecka             142 non-null    int64  \n",
      " 10  Antal_avlidna_milj_inv_vecka    142 non-null    float64\n",
      " 11  Kum_antal_avlidna               142 non-null    int64  \n",
      " 12  Kum_antal_avlidna_milj_inv      142 non-null    float64\n",
      "dtypes: float64(2), int64(11)\n",
      "memory usage: 14.6 KB\n"
     ]
    }
   ],
   "source": [
    "covid_data.info()"
   ]
  },
  {
   "cell_type": "markdown",
   "metadata": {},
   "source": [
    "# covid_data.describe()\n",
    "- Denna metod visar en statisktisk sammanfattning av datan i dataframe \n",
    "- - Den visar olika omfång på datan som Count, Mean, STD, Min, Max, Första kvartilen, median och tredje kvartilen.\n",
    "\n",
    "**Vi tittar på kolumnen \"Antal_fall_vecka\"**\n",
    "- **Count:** Denna visar antal icke-null dvs icke tomma värden i varje kolumn \n",
    "- - Det finns 142 icke-null värden\n",
    "- **Mean:** Visar genomsnittliga värdet eller medelvärdet av alla värden i varje kolumn.\n",
    "- - genomsnittligt antal fall per vecka är ca 18 378\n",
    "- **STD (standardavvikelse):** Denna visar hur mycket värdena varierar i en kolumn och eller sprids ut från medelvärdet. Om standardavvikelsen är hög så är värdena mer spridda.\n",
    "- - 38569.455753 = stor avvikelse = stor variation på antal fall från vecka till vecka.\n",
    "- **min:** det minsta värdet i varje kolumn\n",
    "- - Veckor utan rapporterade fall = 0\n",
    "- **25%(första kvartilen):** 25% av värdena i kolumnen är mindre än detta värde\n",
    "- - 25% av veckorna hade 3 075 fall eller färre.\n",
    "- **50%(median):** hälften av värdena i kolumnen är mindre än detta värde\n",
    "- - 50% av veckorna hade 5 531 fall eller färre\n",
    "- **75%(tredje kvartilen):** 75% av värdena i kolumnen är mindre än detta värde\n",
    "- - 75% av av veckorna hade 21 125 fall eller färre\n",
    "- **max:** största värdet i varje kolumn\n",
    "- - den vecka med högst antal fall hade 26 5043"
   ]
  },
  {
   "cell_type": "code",
   "execution_count": 3,
   "metadata": {},
   "outputs": [
    {
     "data": {
      "text/html": [
       "<div>\n",
       "<style scoped>\n",
       "    .dataframe tbody tr th:only-of-type {\n",
       "        vertical-align: middle;\n",
       "    }\n",
       "\n",
       "    .dataframe tbody tr th {\n",
       "        vertical-align: top;\n",
       "    }\n",
       "\n",
       "    .dataframe thead th {\n",
       "        text-align: right;\n",
       "    }\n",
       "</style>\n",
       "<table border=\"1\" class=\"dataframe\">\n",
       "  <thead>\n",
       "    <tr style=\"text-align: right;\">\n",
       "      <th></th>\n",
       "      <th>år</th>\n",
       "      <th>veckonummer</th>\n",
       "      <th>Antal_fall_vecka</th>\n",
       "      <th>Antal_fall_100000inv_vecka</th>\n",
       "      <th>Antal_fall_100000inv_14dagar</th>\n",
       "      <th>Kum_antal_fall</th>\n",
       "      <th>Kum_fall_100000inv</th>\n",
       "      <th>Antal_nyaintensivvårdade_vecka</th>\n",
       "      <th>Kum_antal_intensivvårdade</th>\n",
       "      <th>Antal_avlidna_vecka</th>\n",
       "      <th>Antal_avlidna_milj_inv_vecka</th>\n",
       "      <th>Kum_antal_avlidna</th>\n",
       "      <th>Kum_antal_avlidna_milj_inv</th>\n",
       "    </tr>\n",
       "  </thead>\n",
       "  <tbody>\n",
       "    <tr>\n",
       "      <th>count</th>\n",
       "      <td>142.000000</td>\n",
       "      <td>142.000000</td>\n",
       "      <td>142.000000</td>\n",
       "      <td>142.000000</td>\n",
       "      <td>142.000000</td>\n",
       "      <td>1.420000e+02</td>\n",
       "      <td>142.000000</td>\n",
       "      <td>142.000000</td>\n",
       "      <td>142.000000</td>\n",
       "      <td>142.000000</td>\n",
       "      <td>142.000000</td>\n",
       "      <td>142.000000</td>\n",
       "      <td>142.000000</td>\n",
       "    </tr>\n",
       "    <tr>\n",
       "      <th>mean</th>\n",
       "      <td>2020.957746</td>\n",
       "      <td>26.035211</td>\n",
       "      <td>18378.345070</td>\n",
       "      <td>177.197183</td>\n",
       "      <td>354.169014</td>\n",
       "      <td>1.125288e+06</td>\n",
       "      <td>10843.281690</td>\n",
       "      <td>67.176056</td>\n",
       "      <td>6000.464789</td>\n",
       "      <td>144.936620</td>\n",
       "      <td>14.000000</td>\n",
       "      <td>12321.154930</td>\n",
       "      <td>1187.840841</td>\n",
       "    </tr>\n",
       "    <tr>\n",
       "      <th>std</th>\n",
       "      <td>0.797809</td>\n",
       "      <td>14.228835</td>\n",
       "      <td>38569.455753</td>\n",
       "      <td>371.689114</td>\n",
       "      <td>725.677174</td>\n",
       "      <td>9.618084e+05</td>\n",
       "      <td>9265.100705</td>\n",
       "      <td>73.435000</td>\n",
       "      <td>3076.853993</td>\n",
       "      <td>173.659331</td>\n",
       "      <td>16.796551</td>\n",
       "      <td>6103.235009</td>\n",
       "      <td>587.255605</td>\n",
       "    </tr>\n",
       "    <tr>\n",
       "      <th>min</th>\n",
       "      <td>2020.000000</td>\n",
       "      <td>1.000000</td>\n",
       "      <td>0.000000</td>\n",
       "      <td>0.000000</td>\n",
       "      <td>0.000000</td>\n",
       "      <td>1.000000e+00</td>\n",
       "      <td>0.000000</td>\n",
       "      <td>0.000000</td>\n",
       "      <td>0.000000</td>\n",
       "      <td>0.000000</td>\n",
       "      <td>0.000000</td>\n",
       "      <td>0.000000</td>\n",
       "      <td>0.000000</td>\n",
       "    </tr>\n",
       "    <tr>\n",
       "      <th>25%</th>\n",
       "      <td>2020.000000</td>\n",
       "      <td>14.000000</td>\n",
       "      <td>3075.000000</td>\n",
       "      <td>30.000000</td>\n",
       "      <td>59.750000</td>\n",
       "      <td>1.014860e+05</td>\n",
       "      <td>982.500000</td>\n",
       "      <td>14.000000</td>\n",
       "      <td>2643.750000</td>\n",
       "      <td>25.250000</td>\n",
       "      <td>2.425000</td>\n",
       "      <td>5880.000000</td>\n",
       "      <td>569.375000</td>\n",
       "    </tr>\n",
       "    <tr>\n",
       "      <th>50%</th>\n",
       "      <td>2021.000000</td>\n",
       "      <td>26.000000</td>\n",
       "      <td>5531.000000</td>\n",
       "      <td>53.000000</td>\n",
       "      <td>107.500000</td>\n",
       "      <td>1.085848e+06</td>\n",
       "      <td>10461.500000</td>\n",
       "      <td>27.500000</td>\n",
       "      <td>7559.500000</td>\n",
       "      <td>77.500000</td>\n",
       "      <td>7.450000</td>\n",
       "      <td>14610.500000</td>\n",
       "      <td>1407.650024</td>\n",
       "    </tr>\n",
       "    <tr>\n",
       "      <th>75%</th>\n",
       "      <td>2022.000000</td>\n",
       "      <td>37.750000</td>\n",
       "      <td>21125.000000</td>\n",
       "      <td>203.500000</td>\n",
       "      <td>421.250000</td>\n",
       "      <td>2.423603e+06</td>\n",
       "      <td>23350.500000</td>\n",
       "      <td>109.000000</td>\n",
       "      <td>8863.250000</td>\n",
       "      <td>185.500000</td>\n",
       "      <td>17.950000</td>\n",
       "      <td>17177.750000</td>\n",
       "      <td>1654.999969</td>\n",
       "    </tr>\n",
       "    <tr>\n",
       "      <th>max</th>\n",
       "      <td>2022.000000</td>\n",
       "      <td>53.000000</td>\n",
       "      <td>265043.000000</td>\n",
       "      <td>2554.000000</td>\n",
       "      <td>5024.000000</td>\n",
       "      <td>2.609725e+06</td>\n",
       "      <td>25144.000000</td>\n",
       "      <td>289.000000</td>\n",
       "      <td>9539.000000</td>\n",
       "      <td>664.000000</td>\n",
       "      <td>64.300003</td>\n",
       "      <td>20581.000000</td>\n",
       "      <td>1982.900024</td>\n",
       "    </tr>\n",
       "  </tbody>\n",
       "</table>\n",
       "</div>"
      ],
      "text/plain": [
       "                år  veckonummer  Antal_fall_vecka  Antal_fall_100000inv_vecka  \\\n",
       "count   142.000000   142.000000        142.000000                  142.000000   \n",
       "mean   2020.957746    26.035211      18378.345070                  177.197183   \n",
       "std       0.797809    14.228835      38569.455753                  371.689114   \n",
       "min    2020.000000     1.000000          0.000000                    0.000000   \n",
       "25%    2020.000000    14.000000       3075.000000                   30.000000   \n",
       "50%    2021.000000    26.000000       5531.000000                   53.000000   \n",
       "75%    2022.000000    37.750000      21125.000000                  203.500000   \n",
       "max    2022.000000    53.000000     265043.000000                 2554.000000   \n",
       "\n",
       "       Antal_fall_100000inv_14dagar  Kum_antal_fall  Kum_fall_100000inv  \\\n",
       "count                    142.000000    1.420000e+02          142.000000   \n",
       "mean                     354.169014    1.125288e+06        10843.281690   \n",
       "std                      725.677174    9.618084e+05         9265.100705   \n",
       "min                        0.000000    1.000000e+00            0.000000   \n",
       "25%                       59.750000    1.014860e+05          982.500000   \n",
       "50%                      107.500000    1.085848e+06        10461.500000   \n",
       "75%                      421.250000    2.423603e+06        23350.500000   \n",
       "max                     5024.000000    2.609725e+06        25144.000000   \n",
       "\n",
       "       Antal_nyaintensivvårdade_vecka  Kum_antal_intensivvårdade  \\\n",
       "count                      142.000000                 142.000000   \n",
       "mean                        67.176056                6000.464789   \n",
       "std                         73.435000                3076.853993   \n",
       "min                          0.000000                   0.000000   \n",
       "25%                         14.000000                2643.750000   \n",
       "50%                         27.500000                7559.500000   \n",
       "75%                        109.000000                8863.250000   \n",
       "max                        289.000000                9539.000000   \n",
       "\n",
       "       Antal_avlidna_vecka  Antal_avlidna_milj_inv_vecka  Kum_antal_avlidna  \\\n",
       "count           142.000000                    142.000000         142.000000   \n",
       "mean            144.936620                     14.000000       12321.154930   \n",
       "std             173.659331                     16.796551        6103.235009   \n",
       "min               0.000000                      0.000000           0.000000   \n",
       "25%              25.250000                      2.425000        5880.000000   \n",
       "50%              77.500000                      7.450000       14610.500000   \n",
       "75%             185.500000                     17.950000       17177.750000   \n",
       "max             664.000000                     64.300003       20581.000000   \n",
       "\n",
       "       Kum_antal_avlidna_milj_inv  \n",
       "count                  142.000000  \n",
       "mean                  1187.840841  \n",
       "std                    587.255605  \n",
       "min                      0.000000  \n",
       "25%                    569.375000  \n",
       "50%                   1407.650024  \n",
       "75%                   1654.999969  \n",
       "max                   1982.900024  "
      ]
     },
     "execution_count": 3,
     "metadata": {},
     "output_type": "execute_result"
    }
   ],
   "source": [
    "covid_data.describe()"
   ]
  },
  {
   "cell_type": "markdown",
   "metadata": {},
   "source": [
    "# covid_data.head()\n",
    "\n",
    "- Listar dom 5 första inklusive rad 0 som standard\n",
    "- om man sätter in en siffra i () så får jag antalet rader som står där. <br>\n",
    "Men man måste tänka på att den börjar från 0 dvs med 0 inkluderad, så skriver jag 50 så kommer den visa upp till rad 49."
   ]
  },
  {
   "cell_type": "code",
   "execution_count": 4,
   "metadata": {},
   "outputs": [
    {
     "data": {
      "text/html": [
       "<div>\n",
       "<style scoped>\n",
       "    .dataframe tbody tr th:only-of-type {\n",
       "        vertical-align: middle;\n",
       "    }\n",
       "\n",
       "    .dataframe tbody tr th {\n",
       "        vertical-align: top;\n",
       "    }\n",
       "\n",
       "    .dataframe thead th {\n",
       "        text-align: right;\n",
       "    }\n",
       "</style>\n",
       "<table border=\"1\" class=\"dataframe\">\n",
       "  <thead>\n",
       "    <tr style=\"text-align: right;\">\n",
       "      <th></th>\n",
       "      <th>år</th>\n",
       "      <th>veckonummer</th>\n",
       "      <th>Antal_fall_vecka</th>\n",
       "      <th>Antal_fall_100000inv_vecka</th>\n",
       "      <th>Antal_fall_100000inv_14dagar</th>\n",
       "      <th>Kum_antal_fall</th>\n",
       "      <th>Kum_fall_100000inv</th>\n",
       "      <th>Antal_nyaintensivvårdade_vecka</th>\n",
       "      <th>Kum_antal_intensivvårdade</th>\n",
       "      <th>Antal_avlidna_vecka</th>\n",
       "      <th>Antal_avlidna_milj_inv_vecka</th>\n",
       "      <th>Kum_antal_avlidna</th>\n",
       "      <th>Kum_antal_avlidna_milj_inv</th>\n",
       "    </tr>\n",
       "  </thead>\n",
       "  <tbody>\n",
       "    <tr>\n",
       "      <th>0</th>\n",
       "      <td>2020</td>\n",
       "      <td>6</td>\n",
       "      <td>1</td>\n",
       "      <td>0</td>\n",
       "      <td>0</td>\n",
       "      <td>1</td>\n",
       "      <td>0</td>\n",
       "      <td>0</td>\n",
       "      <td>0</td>\n",
       "      <td>0</td>\n",
       "      <td>0.0</td>\n",
       "      <td>0</td>\n",
       "      <td>0.0</td>\n",
       "    </tr>\n",
       "    <tr>\n",
       "      <th>1</th>\n",
       "      <td>2020</td>\n",
       "      <td>7</td>\n",
       "      <td>0</td>\n",
       "      <td>0</td>\n",
       "      <td>0</td>\n",
       "      <td>1</td>\n",
       "      <td>0</td>\n",
       "      <td>0</td>\n",
       "      <td>0</td>\n",
       "      <td>0</td>\n",
       "      <td>0.0</td>\n",
       "      <td>0</td>\n",
       "      <td>0.0</td>\n",
       "    </tr>\n",
       "    <tr>\n",
       "      <th>2</th>\n",
       "      <td>2020</td>\n",
       "      <td>8</td>\n",
       "      <td>0</td>\n",
       "      <td>0</td>\n",
       "      <td>0</td>\n",
       "      <td>1</td>\n",
       "      <td>0</td>\n",
       "      <td>0</td>\n",
       "      <td>0</td>\n",
       "      <td>0</td>\n",
       "      <td>0.0</td>\n",
       "      <td>0</td>\n",
       "      <td>0.0</td>\n",
       "    </tr>\n",
       "    <tr>\n",
       "      <th>3</th>\n",
       "      <td>2020</td>\n",
       "      <td>9</td>\n",
       "      <td>13</td>\n",
       "      <td>0</td>\n",
       "      <td>0</td>\n",
       "      <td>14</td>\n",
       "      <td>0</td>\n",
       "      <td>0</td>\n",
       "      <td>0</td>\n",
       "      <td>0</td>\n",
       "      <td>0.0</td>\n",
       "      <td>0</td>\n",
       "      <td>0.0</td>\n",
       "    </tr>\n",
       "    <tr>\n",
       "      <th>4</th>\n",
       "      <td>2020</td>\n",
       "      <td>10</td>\n",
       "      <td>211</td>\n",
       "      <td>2</td>\n",
       "      <td>2</td>\n",
       "      <td>225</td>\n",
       "      <td>2</td>\n",
       "      <td>3</td>\n",
       "      <td>3</td>\n",
       "      <td>0</td>\n",
       "      <td>0.0</td>\n",
       "      <td>0</td>\n",
       "      <td>0.0</td>\n",
       "    </tr>\n",
       "  </tbody>\n",
       "</table>\n",
       "</div>"
      ],
      "text/plain": [
       "     år  veckonummer  Antal_fall_vecka  Antal_fall_100000inv_vecka  \\\n",
       "0  2020            6                 1                           0   \n",
       "1  2020            7                 0                           0   \n",
       "2  2020            8                 0                           0   \n",
       "3  2020            9                13                           0   \n",
       "4  2020           10               211                           2   \n",
       "\n",
       "   Antal_fall_100000inv_14dagar  Kum_antal_fall  Kum_fall_100000inv  \\\n",
       "0                             0               1                   0   \n",
       "1                             0               1                   0   \n",
       "2                             0               1                   0   \n",
       "3                             0              14                   0   \n",
       "4                             2             225                   2   \n",
       "\n",
       "   Antal_nyaintensivvårdade_vecka  Kum_antal_intensivvårdade  \\\n",
       "0                               0                          0   \n",
       "1                               0                          0   \n",
       "2                               0                          0   \n",
       "3                               0                          0   \n",
       "4                               3                          3   \n",
       "\n",
       "   Antal_avlidna_vecka  Antal_avlidna_milj_inv_vecka  Kum_antal_avlidna  \\\n",
       "0                    0                           0.0                  0   \n",
       "1                    0                           0.0                  0   \n",
       "2                    0                           0.0                  0   \n",
       "3                    0                           0.0                  0   \n",
       "4                    0                           0.0                  0   \n",
       "\n",
       "   Kum_antal_avlidna_milj_inv  \n",
       "0                         0.0  \n",
       "1                         0.0  \n",
       "2                         0.0  \n",
       "3                         0.0  \n",
       "4                         0.0  "
      ]
     },
     "execution_count": 4,
     "metadata": {},
     "output_type": "execute_result"
    }
   ],
   "source": [
    "covid_data.head()"
   ]
  },
  {
   "cell_type": "markdown",
   "metadata": {},
   "source": [
    "# covid_data.value_counts()\n",
    "- Räknar antalet unika värden i en kolumn. Kan användas till tex kategorisk data.\n",
    "- Visar antalet icke-nullvärden i varje kolumn.\n",
    "- - Här kan vi se att den har 142 \n",
    "- - om vi kör **covid_data['år'].value_counts()** så kan man konstatera att datan i dataframe handlar om 3 år 2021, 2020 och 2022.<br>\n",
    "På varje år så kan man också se hur många datapunkter/värden det finns där man kan tolka att värdena=veckor."
   ]
  },
  {
   "cell_type": "code",
   "execution_count": 5,
   "metadata": {},
   "outputs": [
    {
     "data": {
      "text/plain": [
       "år\n",
       "2021    52\n",
       "2020    48\n",
       "2022    42\n",
       "Name: count, dtype: int64"
      ]
     },
     "execution_count": 5,
     "metadata": {},
     "output_type": "execute_result"
    }
   ],
   "source": [
    "#covid_data.value_counts()\n",
    "\n",
    "covid_data['år'].value_counts()"
   ]
  },
  {
   "cell_type": "markdown",
   "metadata": {},
   "source": [
    "# covid_data.columns\n",
    "\n",
    "- Visar rubrikerna till varje kolumn\n",
    "- Detta gör det enklare att navigera ett dokument och pin pointa vad man vill kolla på."
   ]
  },
  {
   "cell_type": "code",
   "execution_count": 6,
   "metadata": {},
   "outputs": [
    {
     "data": {
      "text/plain": [
       "Index(['år', 'veckonummer', 'Antal_fall_vecka', 'Antal_fall_100000inv_vecka',\n",
       "       'Antal_fall_100000inv_14dagar', 'Kum_antal_fall', 'Kum_fall_100000inv',\n",
       "       'Antal_nyaintensivvårdade_vecka', 'Kum_antal_intensivvårdade',\n",
       "       'Antal_avlidna_vecka', 'Antal_avlidna_milj_inv_vecka',\n",
       "       'Kum_antal_avlidna', 'Kum_antal_avlidna_milj_inv'],\n",
       "      dtype='object')"
      ]
     },
     "execution_count": 6,
     "metadata": {},
     "output_type": "execute_result"
    }
   ],
   "source": [
    "covid_data.columns\n"
   ]
  },
  {
   "cell_type": "markdown",
   "metadata": {},
   "source": [
    "# covid_data.index\n",
    "- Visar indexet för DataFrame.\n",
    "- Index är som radnummer i Excel.\n",
    "- Index är bra för att hitta och identifiera data. Man kollar på kolumn + index.\n",
    "- I outputen kan vi se RangeIndex(start=0, stop=142, step=1)\n",
    "- - Start är startvärdet där bladet börjar då som är 0\n",
    "- - Stop är det sista indexvärdet som i detta fallet är 142.<br>\n",
    "En sak som är viktig att notera är att det verkliga sista indexvärdet är\n",
    "141 dvs stop - 1.\n",
    "- - Step är ett stegvärde för indexet. Så varje stegvärde ökar med 1 från det värdet innan."
   ]
  },
  {
   "cell_type": "code",
   "execution_count": 7,
   "metadata": {},
   "outputs": [
    {
     "data": {
      "text/plain": [
       "RangeIndex(start=0, stop=142, step=1)"
      ]
     },
     "execution_count": 7,
     "metadata": {},
     "output_type": "execute_result"
    }
   ],
   "source": [
    "covid_data.index"
   ]
  },
  {
   "cell_type": "markdown",
   "metadata": {},
   "source": [
    "# Uppgift 1 b - slå ihop kolumner till specifikt format"
   ]
  },
  {
   "cell_type": "code",
   "execution_count": 8,
   "metadata": {},
   "outputs": [],
   "source": [
    "covid_data['år'] = covid_data['år'].astype(str)                             # Strängmanipulation - konverterar om till sträng och objekt\n",
    "covid_data['veckonummer'] = covid_data['veckonummer'].astype(str)\n",
    "\n",
    "covid_data['Vecka'] = [f\"{år}v{veckonr.zfill(2)}\" for år, veckonr in zip(covid_data['år'], covid_data['veckonummer'])]   # Sammanfogning av 'år' och 'veckonummer' till en ny kolumn 'Vecka'\n",
    "covid_data = covid_data.sort_values(by=\"Vecka\")"
   ]
  },
  {
   "cell_type": "code",
   "execution_count": 9,
   "metadata": {},
   "outputs": [
    {
     "name": "stdout",
     "output_type": "stream",
     "text": [
      "     år veckonummer  Antal_fall_vecka  Antal_fall_100000inv_vecka  \\\n",
      "0  2020           6                 1                           0   \n",
      "1  2020           7                 0                           0   \n",
      "2  2020           8                 0                           0   \n",
      "3  2020           9                13                           0   \n",
      "4  2020          10               211                           2   \n",
      "\n",
      "   Antal_fall_100000inv_14dagar  Kum_antal_fall  Kum_fall_100000inv  \\\n",
      "0                             0               1                   0   \n",
      "1                             0               1                   0   \n",
      "2                             0               1                   0   \n",
      "3                             0              14                   0   \n",
      "4                             2             225                   2   \n",
      "\n",
      "   Antal_nyaintensivvårdade_vecka  Kum_antal_intensivvårdade  \\\n",
      "0                               0                          0   \n",
      "1                               0                          0   \n",
      "2                               0                          0   \n",
      "3                               0                          0   \n",
      "4                               3                          3   \n",
      "\n",
      "   Antal_avlidna_vecka  Antal_avlidna_milj_inv_vecka  Kum_antal_avlidna  \\\n",
      "0                    0                           0.0                  0   \n",
      "1                    0                           0.0                  0   \n",
      "2                    0                           0.0                  0   \n",
      "3                    0                           0.0                  0   \n",
      "4                    0                           0.0                  0   \n",
      "\n",
      "   Kum_antal_avlidna_milj_inv    Vecka  \n",
      "0                         0.0  2020v06  \n",
      "1                         0.0  2020v07  \n",
      "2                         0.0  2020v08  \n",
      "3                         0.0  2020v09  \n",
      "4                         0.0  2020v10  \n"
     ]
    }
   ],
   "source": [
    "print(covid_data.head())  # Vi ser att nya kolumnen är inkluderad genom denna metod"
   ]
  },
  {
   "cell_type": "code",
   "execution_count": 10,
   "metadata": {},
   "outputs": [
    {
     "name": "stdout",
     "output_type": "stream",
     "text": [
      "0    2020v06\n",
      "1    2020v07\n",
      "2    2020v08\n",
      "3    2020v09\n",
      "4    2020v10\n",
      "Name: Vecka, dtype: object\n"
     ]
    }
   ],
   "source": [
    "print(covid_data['Vecka'].head()) # Här kan vi också se specifikt den kolumnens innehålls första rader"
   ]
  },
  {
   "cell_type": "code",
   "execution_count": 11,
   "metadata": {},
   "outputs": [
    {
     "name": "stdout",
     "output_type": "stream",
     "text": [
      "Index(['år', 'veckonummer', 'Antal_fall_vecka', 'Antal_fall_100000inv_vecka',\n",
      "       'Antal_fall_100000inv_14dagar', 'Kum_antal_fall', 'Kum_fall_100000inv',\n",
      "       'Antal_nyaintensivvårdade_vecka', 'Kum_antal_intensivvårdade',\n",
      "       'Antal_avlidna_vecka', 'Antal_avlidna_milj_inv_vecka',\n",
      "       'Kum_antal_avlidna', 'Kum_antal_avlidna_milj_inv', 'Vecka'],\n",
      "      dtype='object')\n"
     ]
    }
   ],
   "source": [
    "print(covid_data.columns) # Genom att bara visa kolumnnamn så kan vi försäkra oss om att den nya kolumnen är inkluderad"
   ]
  },
  {
   "cell_type": "code",
   "execution_count": 12,
   "metadata": {},
   "outputs": [
    {
     "name": "stdout",
     "output_type": "stream",
     "text": [
      "<class 'pandas.core.frame.DataFrame'>\n",
      "RangeIndex: 142 entries, 0 to 141\n",
      "Data columns (total 14 columns):\n",
      " #   Column                          Non-Null Count  Dtype  \n",
      "---  ------                          --------------  -----  \n",
      " 0   år                              142 non-null    object \n",
      " 1   veckonummer                     142 non-null    object \n",
      " 2   Antal_fall_vecka                142 non-null    int64  \n",
      " 3   Antal_fall_100000inv_vecka      142 non-null    int64  \n",
      " 4   Antal_fall_100000inv_14dagar    142 non-null    int64  \n",
      " 5   Kum_antal_fall                  142 non-null    int64  \n",
      " 6   Kum_fall_100000inv              142 non-null    int64  \n",
      " 7   Antal_nyaintensivvårdade_vecka  142 non-null    int64  \n",
      " 8   Kum_antal_intensivvårdade       142 non-null    int64  \n",
      " 9   Antal_avlidna_vecka             142 non-null    int64  \n",
      " 10  Antal_avlidna_milj_inv_vecka    142 non-null    float64\n",
      " 11  Kum_antal_avlidna               142 non-null    int64  \n",
      " 12  Kum_antal_avlidna_milj_inv      142 non-null    float64\n",
      " 13  Vecka                           142 non-null    object \n",
      "dtypes: float64(2), int64(9), object(3)\n",
      "memory usage: 15.7+ KB\n",
      "None\n"
     ]
    }
   ],
   "source": [
    "print(covid_data.info()) # Denna metod ger oss en sammanfattning av dataframe, inkl index, kolumntyper och antal non-null värden. Här får man det bekräftat att det stämmer."
   ]
  },
  {
   "cell_type": "code",
   "execution_count": 13,
   "metadata": {},
   "outputs": [
    {
     "name": "stdout",
     "output_type": "stream",
     "text": [
      "0\n"
     ]
    }
   ],
   "source": [
    "print(covid_data['Vecka'].isna().sum()) # Kontroll av saknade data i 'vecka' kolumnen av COVID-19 Dataset"
   ]
  },
  {
   "cell_type": "markdown",
   "metadata": {},
   "source": [
    "# Uppgift 1c-1f Seaborn\n",
    "- Subplots 2x2\n",
    "- Skapade en funktion som gjorde veckorna mer hanterbara då det var så många veckor\n",
    "- Sparande av grafer till visualiseringar mappen med vit bakgrund"
   ]
  },
  {
   "cell_type": "code",
   "execution_count": 14,
   "metadata": {},
   "outputs": [],
   "source": [
    "def make_ticks(weeks, n):     # Funktion för att göra veckorna mer synliga för min 2x2 plot\n",
    "    return[week for i, week in enumerate(weeks) if i % n == 0]\n",
    "\n",
    "weeks = covid_data['Vecka'].unique()\n",
    "weeks_ticks = make_ticks(weeks, 10) # Gjorde att den visade veckorna var 10:e vecka\n"
   ]
  },
  {
   "cell_type": "code",
   "execution_count": 15,
   "metadata": {},
   "outputs": [
    {
     "data": {
      "image/png": "[encoded data removed]",
      "text/plain": [
       "<Figure size 1500x1000 with 4 Axes>"
      ]
     },
     "metadata": {},
     "output_type": "display_data"
    }
   ],
   "source": [
    "fig, axs = plt.subplots(2, 2, figsize=(15, 10), constrained_layout=True)\n",
    "\n",
    "\n",
    "# Uppgift 1c avlidna fall per vecka\n",
    "sns.lineplot(data=covid_data, x='Vecka', y='Antal_avlidna_vecka', ax=axs[0, 0])\n",
    "axs[0, 0].set_title('Avlidna fall per vecka')\n",
    "axs[0, 0].set_xticks(weeks_ticks)\n",
    "axs[0, 0].tick_params(axis='x', rotation=45)\n",
    "\n",
    "# Uppgift 1d - Nya fall per vecka\n",
    "sns.lineplot(data=covid_data, x='Vecka', y='Antal_fall_vecka', ax=axs[0, 1])\n",
    "axs[0, 1].set_title('Antal fall per vecka')\n",
    "axs[0, 1].set_xticks(weeks_ticks)\n",
    "axs[0, 1].tick_params(axis='x', rotation=45)\n",
    "\n",
    "# Uppgift 1e - Avlidna och nya fall per vecka (kombinationsgraf)\n",
    "sns.lineplot(data=covid_data, x='Vecka', y='Antal_avlidna_vecka', label='Avlidna fall', ax=axs[1, 0])\n",
    "sns.lineplot(data=covid_data, x='Vecka', y='Antal_fall_vecka', label='Nya fall', ax=axs[1, 0])\n",
    "axs[1, 0].set_title('Avlidna och nya fall per vecka')\n",
    "axs[1, 0].set_xticks(weeks_ticks)\n",
    "axs[1, 0].tick_params(axis='x', rotation=45)\n",
    "axs[1, 0].legend()\n",
    "\n",
    "# Uppgift 1f - Kumulativt antal fall\n",
    "sns.lineplot(data=covid_data, x='Vecka', y='Kum_antal_fall', ax=axs[1, 1])\n",
    "axs[1, 1].set_title('Kumulativt antal fall')\n",
    "axs[1, 1].set_xticks(weeks_ticks)\n",
    "axs[1, 1].tick_params(axis='x', rotation=45)\n",
    "\n",
    "plt.savefig('../visualiseringar/covid_subplots.png', facecolor='white', bbox_inches='tight')\n",
    "plt.show()\n",
    "\n",
    "\n",
    "\n",
    "\n"
   ]
  },
  {
   "cell_type": "markdown",
   "metadata": {},
   "source": [
    "# Uppgift 1c-f plotly\n",
    "- Grafer som visualiserar samma data som ovan fast i Plotly\n",
    "- Funktion för att spara plotly grafer som html till mappen visualiseringar"
   ]
  },
  {
   "cell_type": "code",
   "execution_count": 16,
   "metadata": {},
   "outputs": [],
   "source": [
    "def save_plotly_fig(fig, filename, directory=\"../visualiseringar\"):\n",
    "\n",
    "    Path(directory).mkdir(parents=True, exist_ok=True)\n",
    "    filepath = f\"{directory}/{filename}.html\"\n",
    "    fig.write_html(filepath)\n",
    "    print(f\"Figure saved as {filepath}\")\n",
    "    "
   ]
  },
  {
   "cell_type": "code",
   "execution_count": 17,
   "metadata": {},
   "outputs": [
    {
     "name": "stdout",
     "output_type": "stream",
     "text": [
      "Figure saved as ../visualiseringar/avlidna_fall_per_vecka.html\n"
     ]
    },
    {
     "data": {
      "application/vnd.plotly.v1+json": {
       "config": {
        "plotlyServerURL": "https://plot.ly"
       },
       "data": [
        {
         "hovertemplate": "Vecka=%{x}<br>Antal_avlidna_vecka=%{y}<extra></extra>",
         "legendgroup": "",
         "line": {
          "color": "#636efa",
          "dash": "solid"
         },
         "marker": {
          "symbol": "circle"
         },
         "mode": "lines",
         "name": "",
         "orientation": "v",
         "showlegend": false,
         "type": "scatter",
         "x": [
          "2020v06",
          "2020v07",
          "2020v08",
          "2020v09",
          "2020v10",
          "2020v11",
          "2020v12",
          "2020v13",
          "2020v14",
          "2020v15",
          "2020v16",
          "2020v17",
          "2020v18",
          "2020v19",
          "2020v20",
          "2020v21",
          "2020v22",
          "2020v23",
          "2020v24",
          "2020v25",
          "2020v26",
          "2020v27",
          "2020v28",
          "2020v29",
          "2020v30",
          "2020v31",
          "2020v32",
          "2020v33",
          "2020v34",
          "2020v35",
          "2020v36",
          "2020v37",
          "2020v38",
          "2020v39",
          "2020v40",
          "2020v41",
          "2020v42",
          "2020v43",
          "2020v44",
          "2020v45",
          "2020v46",
          "2020v47",
          "2020v48",
          "2020v49",
          "2020v50",
          "2020v51",
          "2020v52",
          "2020v53",
          "2021v01",
          "2021v02",
          "2021v03",
          "2021v04",
          "2021v05",
          "2021v06",
          "2021v07",
          "2021v08",
          "2021v09",
          "2021v10",
          "2021v11",
          "2021v12",
          "2021v13",
          "2021v14",
          "2021v15",
          "2021v16",
          "2021v17",
          "2021v18",
          "2021v19",
          "2021v20",
          "2021v21",
          "2021v22",
          "2021v23",
          "2021v24",
          "2021v25",
          "2021v26",
          "2021v27",
          "2021v28",
          "2021v29",
          "2021v30",
          "2021v31",
          "2021v32",
          "2021v33",
          "2021v34",
          "2021v35",
          "2021v36",
          "2021v37",
          "2021v38",
          "2021v39",
          "2021v40",
          "2021v41",
          "2021v42",
          "2021v43",
          "2021v44",
          "2021v45",
          "2021v46",
          "2021v47",
          "2021v48",
          "2021v49",
          "2021v50",
          "2021v51",
          "2021v52",
          "2022v01",
          "2022v02",
          "2022v03",
          "2022v04",
          "2022v05",
          "2022v06",
          "2022v07",
          "2022v08",
          "2022v09",
          "2022v10",
          "2022v11",
          "2022v12",
          "2022v13",
          "2022v14",
          "2022v15",
          "2022v16",
          "2022v17",
          "2022v18",
          "2022v19",
          "2022v20",
          "2022v21",
          "2022v22",
          "2022v23",
          "2022v24",
          "2022v25",
          "2022v26",
          "2022v27",
          "2022v28",
          "2022v29",
          "2022v30",
          "2022v31",
          "2022v32",
          "2022v33",
          "2022v34",
          "2022v35",
          "2022v36",
          "2022v37",
          "2022v38",
          "2022v39",
          "2022v40",
          "2022v41",
          "2022v42"
         ],
         "xaxis": "x",
         "y": [
          0,
          0,
          0,
          0,
          0,
          5,
          44,
          190,
          451,
          664,
          657,
          546,
          543,
          509,
          380,
          360,
          272,
          246,
          234,
          200,
          138,
          98,
          84,
          57,
          30,
          18,
          18,
          16,
          19,
          10,
          12,
          13,
          12,
          11,
          17,
          22,
          16,
          43,
          82,
          157,
          235,
          332,
          417,
          476,
          500,
          645,
          643,
          663,
          644,
          598,
          513,
          389,
          269,
          205,
          172,
          146,
          129,
          141,
          127,
          126,
          142,
          133,
          141,
          131,
          115,
          107,
          111,
          70,
          47,
          39,
          22,
          17,
          9,
          8,
          3,
          2,
          3,
          4,
          7,
          7,
          11,
          20,
          25,
          49,
          51,
          43,
          39,
          49,
          32,
          23,
          30,
          33,
          31,
          30,
          15,
          29,
          38,
          49,
          44,
          70,
          130,
          172,
          243,
          301,
          359,
          329,
          361,
          319,
          273,
          204,
          195,
          157,
          122,
          120,
          71,
          70,
          51,
          52,
          42,
          41,
          26,
          23,
          28,
          22,
          36,
          42,
          59,
          62,
          114,
          95,
          110,
          119,
          133,
          85,
          96,
          85,
          95,
          88,
          92,
          88,
          73,
          25
         ],
         "yaxis": "y"
        }
       ],
       "layout": {
        "legend": {
         "tracegroupgap": 0
        },
        "template": {
         "data": {
          "bar": [
           {
            "error_x": {
             "color": "#2a3f5f"
            },
            "error_y": {
             "color": "#2a3f5f"
            },
            "marker": {
             "line": {
              "color": "#E5ECF6",
              "width": 0.5
             },
             "pattern": {
              "fillmode": "overlay",
              "size": 10,
              "solidity": 0.2
             }
            },
            "type": "bar"
           }
          ],
          "barpolar": [
           {
            "marker": {
             "line": {
              "color": "#E5ECF6",
              "width": 0.5
             },
             "pattern": {
              "fillmode": "overlay",
              "size": 10,
              "solidity": 0.2
             }
            },
            "type": "barpolar"
           }
          ],
          "carpet": [
           {
            "aaxis": {
             "endlinecolor": "#2a3f5f",
             "gridcolor": "white",
             "linecolor": "white",
             "minorgridcolor": "white",
             "startlinecolor": "#2a3f5f"
            },
            "baxis": {
             "endlinecolor": "#2a3f5f",
             "gridcolor": "white",
             "linecolor": "white",
             "minorgridcolor": "white",
             "startlinecolor": "#2a3f5f"
            },
            "type": "carpet"
           }
          ],
          "choropleth": [
           {
            "colorbar": {
             "outlinewidth": 0,
             "ticks": ""
            },
            "type": "choropleth"
           }
          ],
          "contour": [
           {
            "colorbar": {
             "outlinewidth": 0,
             "ticks": ""
            },
            "colorscale": [
             [
              0,
              "#0d0887"
             ],
             [
              0.1111111111111111,
              "#46039f"
             ],
             [
              0.2222222222222222,
              "#7201a8"
             ],
             [
              0.3333333333333333,
              "#9c179e"
             ],
             [
              0.4444444444444444,
              "#bd3786"
             ],
             [
              0.5555555555555556,
              "#d8576b"
             ],
             [
              0.6666666666666666,
              "#ed7953"
             ],
             [
              0.7777777777777778,
              "#fb9f3a"
             ],
             [
              0.8888888888888888,
              "#fdca26"
             ],
             [
              1,
              "#f0f921"
             ]
            ],
            "type": "contour"
           }
          ],
          "contourcarpet": [
           {
            "colorbar": {
             "outlinewidth": 0,
             "ticks": ""
            },
            "type": "contourcarpet"
           }
          ],
          "heatmap": [
           {
            "colorbar": {
             "outlinewidth": 0,
             "ticks": ""
            },
            "colorscale": [
             [
              0,
              "#0d0887"
             ],
             [
              0.1111111111111111,
              "#46039f"
             ],
             [
              0.2222222222222222,
              "#7201a8"
             ],
             [
              0.3333333333333333,
              "#9c179e"
             ],
             [
              0.4444444444444444,
              "#bd3786"
             ],
             [
              0.5555555555555556,
              "#d8576b"
             ],
             [
              0.6666666666666666,
              "#ed7953"
             ],
             [
              0.7777777777777778,
              "#fb9f3a"
             ],
             [
              0.8888888888888888,
              "#fdca26"
             ],
             [
              1,
              "#f0f921"
             ]
            ],
            "type": "heatmap"
           }
          ],
          "heatmapgl": [
           {
            "colorbar": {
             "outlinewidth": 0,
             "ticks": ""
            },
            "colorscale": [
             [
              0,
              "#0d0887"
             ],
             [
              0.1111111111111111,
              "#46039f"
             ],
             [
              0.2222222222222222,
              "#7201a8"
             ],
             [
              0.3333333333333333,
              "#9c179e"
             ],
             [
              0.4444444444444444,
              "#bd3786"
             ],
             [
              0.5555555555555556,
              "#d8576b"
             ],
             [
              0.6666666666666666,
              "#ed7953"
             ],
             [
              0.7777777777777778,
              "#fb9f3a"
             ],
             [
              0.8888888888888888,
              "#fdca26"
             ],
             [
              1,
              "#f0f921"
             ]
            ],
            "type": "heatmapgl"
           }
          ],
          "histogram": [
           {
            "marker": {
             "pattern": {
              "fillmode": "overlay",
              "size": 10,
              "solidity": 0.2
             }
            },
            "type": "histogram"
           }
          ],
          "histogram2d": [
           {
            "colorbar": {
             "outlinewidth": 0,
             "ticks": ""
            },
            "colorscale": [
             [
              0,
              "#0d0887"
             ],
             [
              0.1111111111111111,
              "#46039f"
             ],
             [
              0.2222222222222222,
              "#7201a8"
             ],
             [
              0.3333333333333333,
              "#9c179e"
             ],
             [
              0.4444444444444444,
              "#bd3786"
             ],
             [
              0.5555555555555556,
              "#d8576b"
             ],
             [
              0.6666666666666666,
              "#ed7953"
             ],
             [
              0.7777777777777778,
              "#fb9f3a"
             ],
             [
              0.8888888888888888,
              "#fdca26"
             ],
             [
              1,
              "#f0f921"
             ]
            ],
            "type": "histogram2d"
           }
          ],
          "histogram2dcontour": [
           {
            "colorbar": {
             "outlinewidth": 0,
             "ticks": ""
            },
            "colorscale": [
             [
              0,
              "#0d0887"
             ],
             [
              0.1111111111111111,
              "#46039f"
             ],
             [
              0.2222222222222222,
              "#7201a8"
             ],
             [
              0.3333333333333333,
              "#9c179e"
             ],
             [
              0.4444444444444444,
              "#bd3786"
             ],
             [
              0.5555555555555556,
              "#d8576b"
             ],
             [
              0.6666666666666666,
              "#ed7953"
             ],
             [
              0.7777777777777778,
              "#fb9f3a"
             ],
             [
              0.8888888888888888,
              "#fdca26"
             ],
             [
              1,
              "#f0f921"
             ]
            ],
            "type": "histogram2dcontour"
           }
          ],
          "mesh3d": [
           {
            "colorbar": {
             "outlinewidth": 0,
             "ticks": ""
            },
            "type": "mesh3d"
           }
          ],
          "parcoords": [
           {
            "line": {
             "colorbar": {
              "outlinewidth": 0,
              "ticks": ""
             }
            },
            "type": "parcoords"
           }
          ],
          "pie": [
           {
            "automargin": true,
            "type": "pie"
           }
          ],
          "scatter": [
           {
            "fillpattern": {
             "fillmode": "overlay",
             "size": 10,
             "solidity": 0.2
            },
            "type": "scatter"
           }
          ],
          "scatter3d": [
           {
            "line": {
             "colorbar": {
              "outlinewidth": 0,
              "ticks": ""
             }
            },
            "marker": {
             "colorbar": {
              "outlinewidth": 0,
              "ticks": ""
             }
            },
            "type": "scatter3d"
           }
          ],
          "scattercarpet": [
           {
            "marker": {
             "colorbar": {
              "outlinewidth": 0,
              "ticks": ""
             }
            },
            "type": "scattercarpet"
           }
          ],
          "scattergeo": [
           {
            "marker": {
             "colorbar": {
              "outlinewidth": 0,
              "ticks": ""
             }
            },
            "type": "scattergeo"
           }
          ],
          "scattergl": [
           {
            "marker": {
             "colorbar": {
              "outlinewidth": 0,
              "ticks": ""
             }
            },
            "type": "scattergl"
           }
          ],
          "scattermapbox": [
           {
            "marker": {
             "colorbar": {
              "outlinewidth": 0,
              "ticks": ""
             }
            },
            "type": "scattermapbox"
           }
          ],
          "scatterpolar": [
           {
            "marker": {
             "colorbar": {
              "outlinewidth": 0,
              "ticks": ""
             }
            },
            "type": "scatterpolar"
           }
          ],
          "scatterpolargl": [
           {
            "marker": {
             "colorbar": {
              "outlinewidth": 0,
              "ticks": ""
             }
            },
            "type": "scatterpolargl"
           }
          ],
          "scatterternary": [
           {
            "marker": {
             "colorbar": {
              "outlinewidth": 0,
              "ticks": ""
             }
            },
            "type": "scatterternary"
           }
          ],
          "surface": [
           {
            "colorbar": {
             "outlinewidth": 0,
             "ticks": ""
            },
            "colorscale": [
             [
              0,
              "#0d0887"
             ],
             [
              0.1111111111111111,
              "#46039f"
             ],
             [
              0.2222222222222222,
              "#7201a8"
             ],
             [
              0.3333333333333333,
              "#9c179e"
             ],
             [
              0.4444444444444444,
              "#bd3786"
             ],
             [
              0.5555555555555556,
              "#d8576b"
             ],
             [
              0.6666666666666666,
              "#ed7953"
             ],
             [
              0.7777777777777778,
              "#fb9f3a"
             ],
             [
              0.8888888888888888,
              "#fdca26"
             ],
             [
              1,
              "#f0f921"
             ]
            ],
            "type": "surface"
           }
          ],
          "table": [
           {
            "cells": {
             "fill": {
              "color": "#EBF0F8"
             },
             "line": {
              "color": "white"
             }
            },
            "header": {
             "fill": {
              "color": "#C8D4E3"
             },
             "line": {
              "color": "white"
             }
            },
            "type": "table"
           }
          ]
         },
         "layout": {
          "annotationdefaults": {
           "arrowcolor": "#2a3f5f",
           "arrowhead": 0,
           "arrowwidth": 1
          },
          "autotypenumbers": "strict",
          "coloraxis": {
           "colorbar": {
            "outlinewidth": 0,
            "ticks": ""
           }
          },
          "colorscale": {
           "diverging": [
            [
             0,
             "#8e0152"
            ],
            [
             0.1,
             "#c51b7d"
            ],
            [
             0.2,
             "#de77ae"
            ],
            [
             0.3,
             "#f1b6da"
            ],
            [
             0.4,
             "#fde0ef"
            ],
            [
             0.5,
             "#f7f7f7"
            ],
            [
             0.6,
             "#e6f5d0"
            ],
            [
             0.7,
             "#b8e186"
            ],
            [
             0.8,
             "#7fbc41"
            ],
            [
             0.9,
             "#4d9221"
            ],
            [
             1,
             "#276419"
            ]
           ],
           "sequential": [
            [
             0,
             "#0d0887"
            ],
            [
             0.1111111111111111,
             "#46039f"
            ],
            [
             0.2222222222222222,
             "#7201a8"
            ],
            [
             0.3333333333333333,
             "#9c179e"
            ],
            [
             0.4444444444444444,
             "#bd3786"
            ],
            [
             0.5555555555555556,
             "#d8576b"
            ],
            [
             0.6666666666666666,
             "#ed7953"
            ],
            [
             0.7777777777777778,
             "#fb9f3a"
            ],
            [
             0.8888888888888888,
             "#fdca26"
            ],
            [
             1,
             "#f0f921"
            ]
           ],
           "sequentialminus": [
            [
             0,
             "#0d0887"
            ],
            [
             0.1111111111111111,
             "#46039f"
            ],
            [
             0.2222222222222222,
             "#7201a8"
            ],
            [
             0.3333333333333333,
             "#9c179e"
            ],
            [
             0.4444444444444444,
             "#bd3786"
            ],
            [
             0.5555555555555556,
             "#d8576b"
            ],
            [
             0.6666666666666666,
             "#ed7953"
            ],
            [
             0.7777777777777778,
             "#fb9f3a"
            ],
            [
             0.8888888888888888,
             "#fdca26"
            ],
            [
             1,
             "#f0f921"
            ]
           ]
          },
          "colorway": [
           "#636efa",
           "#EF553B",
           "#00cc96",
           "#ab63fa",
           "#FFA15A",
           "#19d3f3",
           "#FF6692",
           "#B6E880",
           "#FF97FF",
           "#FECB52"
          ],
          "font": {
           "color": "#2a3f5f"
          },
          "geo": {
           "bgcolor": "white",
           "lakecolor": "white",
           "landcolor": "#E5ECF6",
           "showlakes": true,
           "showland": true,
           "subunitcolor": "white"
          },
          "hoverlabel": {
           "align": "left"
          },
          "hovermode": "closest",
          "mapbox": {
           "style": "light"
          },
          "paper_bgcolor": "white",
          "plot_bgcolor": "#E5ECF6",
          "polar": {
           "angularaxis": {
            "gridcolor": "white",
            "linecolor": "white",
            "ticks": ""
           },
           "bgcolor": "#E5ECF6",
           "radialaxis": {
            "gridcolor": "white",
            "linecolor": "white",
            "ticks": ""
           }
          },
          "scene": {
           "xaxis": {
            "backgroundcolor": "#E5ECF6",
            "gridcolor": "white",
            "gridwidth": 2,
            "linecolor": "white",
            "showbackground": true,
            "ticks": "",
            "zerolinecolor": "white"
           },
           "yaxis": {
            "backgroundcolor": "#E5ECF6",
            "gridcolor": "white",
            "gridwidth": 2,
            "linecolor": "white",
            "showbackground": true,
            "ticks": "",
            "zerolinecolor": "white"
           },
           "zaxis": {
            "backgroundcolor": "#E5ECF6",
            "gridcolor": "white",
            "gridwidth": 2,
            "linecolor": "white",
            "showbackground": true,
            "ticks": "",
            "zerolinecolor": "white"
           }
          },
          "shapedefaults": {
           "line": {
            "color": "#2a3f5f"
           }
          },
          "ternary": {
           "aaxis": {
            "gridcolor": "white",
            "linecolor": "white",
            "ticks": ""
           },
           "baxis": {
            "gridcolor": "white",
            "linecolor": "white",
            "ticks": ""
           },
           "bgcolor": "#E5ECF6",
           "caxis": {
            "gridcolor": "white",
            "linecolor": "white",
            "ticks": ""
           }
          },
          "title": {
           "x": 0.05
          },
          "xaxis": {
           "automargin": true,
           "gridcolor": "white",
           "linecolor": "white",
           "ticks": "",
           "title": {
            "standoff": 15
           },
           "zerolinecolor": "white",
           "zerolinewidth": 2
          },
          "yaxis": {
           "automargin": true,
           "gridcolor": "white",
           "linecolor": "white",
           "ticks": "",
           "title": {
            "standoff": 15
           },
           "zerolinecolor": "white",
           "zerolinewidth": 2
          }
         }
        },
        "title": {
         "text": "Avlidna fall per vecka"
        },
        "xaxis": {
         "anchor": "y",
         "domain": [
          0,
          1
         ],
         "title": {
          "text": "Vecka"
         }
        },
        "yaxis": {
         "anchor": "x",
         "domain": [
          0,
          1
         ],
         "title": {
          "text": "Antal_avlidna_vecka"
         }
        }
       }
      }
     },
     "metadata": {},
     "output_type": "display_data"
    }
   ],
   "source": [
    "fig = px.line(\n",
    "    covid_data,\n",
    "    x='Vecka', \n",
    "    y='Antal_avlidna_vecka', \n",
    "    title='Avlidna fall per vecka'\n",
    ")\n",
    "save_plotly_fig(fig, \"avlidna_fall_per_vecka\")\n",
    "fig.show()"
   ]
  },
  {
   "cell_type": "code",
   "execution_count": 18,
   "metadata": {},
   "outputs": [
    {
     "name": "stdout",
     "output_type": "stream",
     "text": [
      "Figure saved as ../visualiseringar/Nya_fall_per_vecka.html\n"
     ]
    },
    {
     "data": {
      "application/vnd.plotly.v1+json": {
       "config": {
        "plotlyServerURL": "https://plot.ly"
       },
       "data": [
        {
         "hovertemplate": "Vecka=%{x}<br>Antal_fall_vecka=%{y}<extra></extra>",
         "legendgroup": "",
         "line": {
          "color": "#636efa",
          "dash": "solid"
         },
         "marker": {
          "symbol": "circle"
         },
         "mode": "lines",
         "name": "",
         "orientation": "v",
         "showlegend": false,
         "type": "scatter",
         "x": [
          "2020v06",
          "2020v07",
          "2020v08",
          "2020v09",
          "2020v10",
          "2020v11",
          "2020v12",
          "2020v13",
          "2020v14",
          "2020v15",
          "2020v16",
          "2020v17",
          "2020v18",
          "2020v19",
          "2020v20",
          "2020v21",
          "2020v22",
          "2020v23",
          "2020v24",
          "2020v25",
          "2020v26",
          "2020v27",
          "2020v28",
          "2020v29",
          "2020v30",
          "2020v31",
          "2020v32",
          "2020v33",
          "2020v34",
          "2020v35",
          "2020v36",
          "2020v37",
          "2020v38",
          "2020v39",
          "2020v40",
          "2020v41",
          "2020v42",
          "2020v43",
          "2020v44",
          "2020v45",
          "2020v46",
          "2020v47",
          "2020v48",
          "2020v49",
          "2020v50",
          "2020v51",
          "2020v52",
          "2020v53",
          "2021v01",
          "2021v02",
          "2021v03",
          "2021v04",
          "2021v05",
          "2021v06",
          "2021v07",
          "2021v08",
          "2021v09",
          "2021v10",
          "2021v11",
          "2021v12",
          "2021v13",
          "2021v14",
          "2021v15",
          "2021v16",
          "2021v17",
          "2021v18",
          "2021v19",
          "2021v20",
          "2021v21",
          "2021v22",
          "2021v23",
          "2021v24",
          "2021v25",
          "2021v26",
          "2021v27",
          "2021v28",
          "2021v29",
          "2021v30",
          "2021v31",
          "2021v32",
          "2021v33",
          "2021v34",
          "2021v35",
          "2021v36",
          "2021v37",
          "2021v38",
          "2021v39",
          "2021v40",
          "2021v41",
          "2021v42",
          "2021v43",
          "2021v44",
          "2021v45",
          "2021v46",
          "2021v47",
          "2021v48",
          "2021v49",
          "2021v50",
          "2021v51",
          "2021v52",
          "2022v01",
          "2022v02",
          "2022v03",
          "2022v04",
          "2022v05",
          "2022v06",
          "2022v07",
          "2022v08",
          "2022v09",
          "2022v10",
          "2022v11",
          "2022v12",
          "2022v13",
          "2022v14",
          "2022v15",
          "2022v16",
          "2022v17",
          "2022v18",
          "2022v19",
          "2022v20",
          "2022v21",
          "2022v22",
          "2022v23",
          "2022v24",
          "2022v25",
          "2022v26",
          "2022v27",
          "2022v28",
          "2022v29",
          "2022v30",
          "2022v31",
          "2022v32",
          "2022v33",
          "2022v34",
          "2022v35",
          "2022v36",
          "2022v37",
          "2022v38",
          "2022v39",
          "2022v40",
          "2022v41",
          "2022v42"
         ],
         "xaxis": "x",
         "y": [
          1,
          0,
          0,
          13,
          211,
          838,
          924,
          1957,
          3229,
          3740,
          3752,
          4203,
          3832,
          4153,
          3869,
          3659,
          4280,
          6021,
          7123,
          7073,
          7455,
          4279,
          2179,
          1622,
          1316,
          1556,
          2014,
          2052,
          1687,
          1200,
          1332,
          1592,
          2080,
          2919,
          3642,
          4278,
          5620,
          9155,
          18474,
          25405,
          31319,
          31944,
          35560,
          36837,
          43631,
          46177,
          37134,
          41323,
          39446,
          28935,
          23222,
          20654,
          19604,
          21282,
          23613,
          26680,
          27739,
          28555,
          33032,
          37880,
          38384,
          41142,
          41036,
          36030,
          35306,
          33678,
          25914,
          18170,
          7974,
          9094,
          4394,
          2848,
          1983,
          1870,
          1514,
          1883,
          2661,
          3460,
          4609,
          5817,
          6463,
          6685,
          7236,
          7968,
          6259,
          4305,
          4231,
          4137,
          4069,
          5194,
          5910,
          5060,
          5819,
          7093,
          11915,
          13801,
          18649,
          24485,
          27907,
          59341,
          125275,
          164692,
          256323,
          265043,
          185716,
          62338,
          22160,
          17676,
          12587,
          10110,
          8502,
          7040,
          4952,
          4091,
          3070,
          2525,
          2319,
          1940,
          1656,
          1817,
          1316,
          1255,
          1896,
          2165,
          3090,
          4118,
          4236,
          5442,
          5951,
          5705,
          6235,
          6638,
          6320,
          4868,
          4485,
          4712,
          4978,
          4669,
          13532,
          3999,
          3408,
          3279
         ],
         "yaxis": "y"
        }
       ],
       "layout": {
        "legend": {
         "tracegroupgap": 0
        },
        "template": {
         "data": {
          "bar": [
           {
            "error_x": {
             "color": "#2a3f5f"
            },
            "error_y": {
             "color": "#2a3f5f"
            },
            "marker": {
             "line": {
              "color": "#E5ECF6",
              "width": 0.5
             },
             "pattern": {
              "fillmode": "overlay",
              "size": 10,
              "solidity": 0.2
             }
            },
            "type": "bar"
           }
          ],
          "barpolar": [
           {
            "marker": {
             "line": {
              "color": "#E5ECF6",
              "width": 0.5
             },
             "pattern": {
              "fillmode": "overlay",
              "size": 10,
              "solidity": 0.2
             }
            },
            "type": "barpolar"
           }
          ],
          "carpet": [
           {
            "aaxis": {
             "endlinecolor": "#2a3f5f",
             "gridcolor": "white",
             "linecolor": "white",
             "minorgridcolor": "white",
             "startlinecolor": "#2a3f5f"
            },
            "baxis": {
             "endlinecolor": "#2a3f5f",
             "gridcolor": "white",
             "linecolor": "white",
             "minorgridcolor": "white",
             "startlinecolor": "#2a3f5f"
            },
            "type": "carpet"
           }
          ],
          "choropleth": [
           {
            "colorbar": {
             "outlinewidth": 0,
             "ticks": ""
            },
            "type": "choropleth"
           }
          ],
          "contour": [
           {
            "colorbar": {
             "outlinewidth": 0,
             "ticks": ""
            },
            "colorscale": [
             [
              0,
              "#0d0887"
             ],
             [
              0.1111111111111111,
              "#46039f"
             ],
             [
              0.2222222222222222,
              "#7201a8"
             ],
             [
              0.3333333333333333,
              "#9c179e"
             ],
             [
              0.4444444444444444,
              "#bd3786"
             ],
             [
              0.5555555555555556,
              "#d8576b"
             ],
             [
              0.6666666666666666,
              "#ed7953"
             ],
             [
              0.7777777777777778,
              "#fb9f3a"
             ],
             [
              0.8888888888888888,
              "#fdca26"
             ],
             [
              1,
              "#f0f921"
             ]
            ],
            "type": "contour"
           }
          ],
          "contourcarpet": [
           {
            "colorbar": {
             "outlinewidth": 0,
             "ticks": ""
            },
            "type": "contourcarpet"
           }
          ],
          "heatmap": [
           {
            "colorbar": {
             "outlinewidth": 0,
             "ticks": ""
            },
            "colorscale": [
             [
              0,
              "#0d0887"
             ],
             [
              0.1111111111111111,
              "#46039f"
             ],
             [
              0.2222222222222222,
              "#7201a8"
             ],
             [
              0.3333333333333333,
              "#9c179e"
             ],
             [
              0.4444444444444444,
              "#bd3786"
             ],
             [
              0.5555555555555556,
              "#d8576b"
             ],
             [
              0.6666666666666666,
              "#ed7953"
             ],
             [
              0.7777777777777778,
              "#fb9f3a"
             ],
             [
              0.8888888888888888,
              "#fdca26"
             ],
             [
              1,
              "#f0f921"
             ]
            ],
            "type": "heatmap"
           }
          ],
          "heatmapgl": [
           {
            "colorbar": {
             "outlinewidth": 0,
             "ticks": ""
            },
            "colorscale": [
             [
              0,
              "#0d0887"
             ],
             [
              0.1111111111111111,
              "#46039f"
             ],
             [
              0.2222222222222222,
              "#7201a8"
             ],
             [
              0.3333333333333333,
              "#9c179e"
             ],
             [
              0.4444444444444444,
              "#bd3786"
             ],
             [
              0.5555555555555556,
              "#d8576b"
             ],
             [
              0.6666666666666666,
              "#ed7953"
             ],
             [
              0.7777777777777778,
              "#fb9f3a"
             ],
             [
              0.8888888888888888,
              "#fdca26"
             ],
             [
              1,
              "#f0f921"
             ]
            ],
            "type": "heatmapgl"
           }
          ],
          "histogram": [
           {
            "marker": {
             "pattern": {
              "fillmode": "overlay",
              "size": 10,
              "solidity": 0.2
             }
            },
            "type": "histogram"
           }
          ],
          "histogram2d": [
           {
            "colorbar": {
             "outlinewidth": 0,
             "ticks": ""
            },
            "colorscale": [
             [
              0,
              "#0d0887"
             ],
             [
              0.1111111111111111,
              "#46039f"
             ],
             [
              0.2222222222222222,
              "#7201a8"
             ],
             [
              0.3333333333333333,
              "#9c179e"
             ],
             [
              0.4444444444444444,
              "#bd3786"
             ],
             [
              0.5555555555555556,
              "#d8576b"
             ],
             [
              0.6666666666666666,
              "#ed7953"
             ],
             [
              0.7777777777777778,
              "#fb9f3a"
             ],
             [
              0.8888888888888888,
              "#fdca26"
             ],
             [
              1,
              "#f0f921"
             ]
            ],
            "type": "histogram2d"
           }
          ],
          "histogram2dcontour": [
           {
            "colorbar": {
             "outlinewidth": 0,
             "ticks": ""
            },
            "colorscale": [
             [
              0,
              "#0d0887"
             ],
             [
              0.1111111111111111,
              "#46039f"
             ],
             [
              0.2222222222222222,
              "#7201a8"
             ],
             [
              0.3333333333333333,
              "#9c179e"
             ],
             [
              0.4444444444444444,
              "#bd3786"
             ],
             [
              0.5555555555555556,
              "#d8576b"
             ],
             [
              0.6666666666666666,
              "#ed7953"
             ],
             [
              0.7777777777777778,
              "#fb9f3a"
             ],
             [
              0.8888888888888888,
              "#fdca26"
             ],
             [
              1,
              "#f0f921"
             ]
            ],
            "type": "histogram2dcontour"
           }
          ],
          "mesh3d": [
           {
            "colorbar": {
             "outlinewidth": 0,
             "ticks": ""
            },
            "type": "mesh3d"
           }
          ],
          "parcoords": [
           {
            "line": {
             "colorbar": {
              "outlinewidth": 0,
              "ticks": ""
             }
            },
            "type": "parcoords"
           }
          ],
          "pie": [
           {
            "automargin": true,
            "type": "pie"
           }
          ],
          "scatter": [
           {
            "fillpattern": {
             "fillmode": "overlay",
             "size": 10,
             "solidity": 0.2
            },
            "type": "scatter"
           }
          ],
          "scatter3d": [
           {
            "line": {
             "colorbar": {
              "outlinewidth": 0,
              "ticks": ""
             }
            },
            "marker": {
             "colorbar": {
              "outlinewidth": 0,
              "ticks": ""
             }
            },
            "type": "scatter3d"
           }
          ],
          "scattercarpet": [
           {
            "marker": {
             "colorbar": {
              "outlinewidth": 0,
              "ticks": ""
             }
            },
            "type": "scattercarpet"
           }
          ],
          "scattergeo": [
           {
            "marker": {
             "colorbar": {
              "outlinewidth": 0,
              "ticks": ""
             }
            },
            "type": "scattergeo"
           }
          ],
          "scattergl": [
           {
            "marker": {
             "colorbar": {
              "outlinewidth": 0,
              "ticks": ""
             }
            },
            "type": "scattergl"
           }
          ],
          "scattermapbox": [
           {
            "marker": {
             "colorbar": {
              "outlinewidth": 0,
              "ticks": ""
             }
            },
            "type": "scattermapbox"
           }
          ],
          "scatterpolar": [
           {
            "marker": {
             "colorbar": {
              "outlinewidth": 0,
              "ticks": ""
             }
            },
            "type": "scatterpolar"
           }
          ],
          "scatterpolargl": [
           {
            "marker": {
             "colorbar": {
              "outlinewidth": 0,
              "ticks": ""
             }
            },
            "type": "scatterpolargl"
           }
          ],
          "scatterternary": [
           {
            "marker": {
             "colorbar": {
              "outlinewidth": 0,
              "ticks": ""
             }
            },
            "type": "scatterternary"
           }
          ],
          "surface": [
           {
            "colorbar": {
             "outlinewidth": 0,
             "ticks": ""
            },
            "colorscale": [
             [
              0,
              "#0d0887"
             ],
             [
              0.1111111111111111,
              "#46039f"
             ],
             [
              0.2222222222222222,
              "#7201a8"
             ],
             [
              0.3333333333333333,
              "#9c179e"
             ],
             [
              0.4444444444444444,
              "#bd3786"
             ],
             [
              0.5555555555555556,
              "#d8576b"
             ],
             [
              0.6666666666666666,
              "#ed7953"
             ],
             [
              0.7777777777777778,
              "#fb9f3a"
             ],
             [
              0.8888888888888888,
              "#fdca26"
             ],
             [
              1,
              "#f0f921"
             ]
            ],
            "type": "surface"
           }
          ],
          "table": [
           {
            "cells": {
             "fill": {
              "color": "#EBF0F8"
             },
             "line": {
              "color": "white"
             }
            },
            "header": {
             "fill": {
              "color": "#C8D4E3"
             },
             "line": {
              "color": "white"
             }
            },
            "type": "table"
           }
          ]
         },
         "layout": {
          "annotationdefaults": {
           "arrowcolor": "#2a3f5f",
           "arrowhead": 0,
           "arrowwidth": 1
          },
          "autotypenumbers": "strict",
          "coloraxis": {
           "colorbar": {
            "outlinewidth": 0,
            "ticks": ""
           }
          },
          "colorscale": {
           "diverging": [
            [
             0,
             "#8e0152"
            ],
            [
             0.1,
             "#c51b7d"
            ],
            [
             0.2,
             "#de77ae"
            ],
            [
             0.3,
             "#f1b6da"
            ],
            [
             0.4,
             "#fde0ef"
            ],
            [
             0.5,
             "#f7f7f7"
            ],
            [
             0.6,
             "#e6f5d0"
            ],
            [
             0.7,
             "#b8e186"
            ],
            [
             0.8,
             "#7fbc41"
            ],
            [
             0.9,
             "#4d9221"
            ],
            [
             1,
             "#276419"
            ]
           ],
           "sequential": [
            [
             0,
             "#0d0887"
            ],
            [
             0.1111111111111111,
             "#46039f"
            ],
            [
             0.2222222222222222,
             "#7201a8"
            ],
            [
             0.3333333333333333,
             "#9c179e"
            ],
            [
             0.4444444444444444,
             "#bd3786"
            ],
            [
             0.5555555555555556,
             "#d8576b"
            ],
            [
             0.6666666666666666,
             "#ed7953"
            ],
            [
             0.7777777777777778,
             "#fb9f3a"
            ],
            [
             0.8888888888888888,
             "#fdca26"
            ],
            [
             1,
             "#f0f921"
            ]
           ],
           "sequentialminus": [
            [
             0,
             "#0d0887"
            ],
            [
             0.1111111111111111,
             "#46039f"
            ],
            [
             0.2222222222222222,
             "#7201a8"
            ],
            [
             0.3333333333333333,
             "#9c179e"
            ],
            [
             0.4444444444444444,
             "#bd3786"
            ],
            [
             0.5555555555555556,
             "#d8576b"
            ],
            [
             0.6666666666666666,
             "#ed7953"
            ],
            [
             0.7777777777777778,
             "#fb9f3a"
            ],
            [
             0.8888888888888888,
             "#fdca26"
            ],
            [
             1,
             "#f0f921"
            ]
           ]
          },
          "colorway": [
           "#636efa",
           "#EF553B",
           "#00cc96",
           "#ab63fa",
           "#FFA15A",
           "#19d3f3",
           "#FF6692",
           "#B6E880",
           "#FF97FF",
           "#FECB52"
          ],
          "font": {
           "color": "#2a3f5f"
          },
          "geo": {
           "bgcolor": "white",
           "lakecolor": "white",
           "landcolor": "#E5ECF6",
           "showlakes": true,
           "showland": true,
           "subunitcolor": "white"
          },
          "hoverlabel": {
           "align": "left"
          },
          "hovermode": "closest",
          "mapbox": {
           "style": "light"
          },
          "paper_bgcolor": "white",
          "plot_bgcolor": "#E5ECF6",
          "polar": {
           "angularaxis": {
            "gridcolor": "white",
            "linecolor": "white",
            "ticks": ""
           },
           "bgcolor": "#E5ECF6",
           "radialaxis": {
            "gridcolor": "white",
            "linecolor": "white",
            "ticks": ""
           }
          },
          "scene": {
           "xaxis": {
            "backgroundcolor": "#E5ECF6",
            "gridcolor": "white",
            "gridwidth": 2,
            "linecolor": "white",
            "showbackground": true,
            "ticks": "",
            "zerolinecolor": "white"
           },
           "yaxis": {
            "backgroundcolor": "#E5ECF6",
            "gridcolor": "white",
            "gridwidth": 2,
            "linecolor": "white",
            "showbackground": true,
            "ticks": "",
            "zerolinecolor": "white"
           },
           "zaxis": {
            "backgroundcolor": "#E5ECF6",
            "gridcolor": "white",
            "gridwidth": 2,
            "linecolor": "white",
            "showbackground": true,
            "ticks": "",
            "zerolinecolor": "white"
           }
          },
          "shapedefaults": {
           "line": {
            "color": "#2a3f5f"
           }
          },
          "ternary": {
           "aaxis": {
            "gridcolor": "white",
            "linecolor": "white",
            "ticks": ""
           },
           "baxis": {
            "gridcolor": "white",
            "linecolor": "white",
            "ticks": ""
           },
           "bgcolor": "#E5ECF6",
           "caxis": {
            "gridcolor": "white",
            "linecolor": "white",
            "ticks": ""
           }
          },
          "title": {
           "x": 0.05
          },
          "xaxis": {
           "automargin": true,
           "gridcolor": "white",
           "linecolor": "white",
           "ticks": "",
           "title": {
            "standoff": 15
           },
           "zerolinecolor": "white",
           "zerolinewidth": 2
          },
          "yaxis": {
           "automargin": true,
           "gridcolor": "white",
           "linecolor": "white",
           "ticks": "",
           "title": {
            "standoff": 15
           },
           "zerolinecolor": "white",
           "zerolinewidth": 2
          }
         }
        },
        "title": {
         "text": "Nya fall per vecka"
        },
        "xaxis": {
         "anchor": "y",
         "domain": [
          0,
          1
         ],
         "title": {
          "text": "Vecka"
         }
        },
        "yaxis": {
         "anchor": "x",
         "domain": [
          0,
          1
         ],
         "title": {
          "text": "Antal_fall_vecka"
         }
        }
       }
      }
     },
     "metadata": {},
     "output_type": "display_data"
    }
   ],
   "source": [
    "fig = px.line(\n",
    "    covid_data, \n",
    "    x='Vecka',\n",
    "    y='Antal_fall_vecka',\n",
    "    title='Nya fall per vecka'\n",
    ")\n",
    "save_plotly_fig(fig, \"Nya_fall_per_vecka\")\n",
    "fig.show()\n",
    "\n"
   ]
  },
  {
   "cell_type": "code",
   "execution_count": 19,
   "metadata": {},
   "outputs": [
    {
     "name": "stdout",
     "output_type": "stream",
     "text": [
      "Figure saved as ../visualiseringar/Avlidna_och_nya_fall_per_vecka.html\n"
     ]
    },
    {
     "data": {
      "application/vnd.plotly.v1+json": {
       "config": {
        "plotlyServerURL": "https://plot.ly"
       },
       "data": [
        {
         "hovertemplate": "Vecka=%{x}<br>index=%{y}<extra></extra>",
         "legendgroup": "",
         "line": {
          "color": "#636efa",
          "dash": "solid"
         },
         "marker": {
          "symbol": "circle"
         },
         "mode": "lines",
         "name": "",
         "orientation": "h",
         "showlegend": false,
         "type": "scatter",
         "x": [
          "2020v06",
          "2020v07",
          "2020v08",
          "2020v09",
          "2020v10",
          "2020v11",
          "2020v12",
          "2020v13",
          "2020v14",
          "2020v15",
          "2020v16",
          "2020v17",
          "2020v18",
          "2020v19",
          "2020v20",
          "2020v21",
          "2020v22",
          "2020v23",
          "2020v24",
          "2020v25",
          "2020v26",
          "2020v27",
          "2020v28",
          "2020v29",
          "2020v30",
          "2020v31",
          "2020v32",
          "2020v33",
          "2020v34",
          "2020v35",
          "2020v36",
          "2020v37",
          "2020v38",
          "2020v39",
          "2020v40",
          "2020v41",
          "2020v42",
          "2020v43",
          "2020v44",
          "2020v45",
          "2020v46",
          "2020v47",
          "2020v48",
          "2020v49",
          "2020v50",
          "2020v51",
          "2020v52",
          "2020v53",
          "2021v01",
          "2021v02",
          "2021v03",
          "2021v04",
          "2021v05",
          "2021v06",
          "2021v07",
          "2021v08",
          "2021v09",
          "2021v10",
          "2021v11",
          "2021v12",
          "2021v13",
          "2021v14",
          "2021v15",
          "2021v16",
          "2021v17",
          "2021v18",
          "2021v19",
          "2021v20",
          "2021v21",
          "2021v22",
          "2021v23",
          "2021v24",
          "2021v25",
          "2021v26",
          "2021v27",
          "2021v28",
          "2021v29",
          "2021v30",
          "2021v31",
          "2021v32",
          "2021v33",
          "2021v34",
          "2021v35",
          "2021v36",
          "2021v37",
          "2021v38",
          "2021v39",
          "2021v40",
          "2021v41",
          "2021v42",
          "2021v43",
          "2021v44",
          "2021v45",
          "2021v46",
          "2021v47",
          "2021v48",
          "2021v49",
          "2021v50",
          "2021v51",
          "2021v52",
          "2022v01",
          "2022v02",
          "2022v03",
          "2022v04",
          "2022v05",
          "2022v06",
          "2022v07",
          "2022v08",
          "2022v09",
          "2022v10",
          "2022v11",
          "2022v12",
          "2022v13",
          "2022v14",
          "2022v15",
          "2022v16",
          "2022v17",
          "2022v18",
          "2022v19",
          "2022v20",
          "2022v21",
          "2022v22",
          "2022v23",
          "2022v24",
          "2022v25",
          "2022v26",
          "2022v27",
          "2022v28",
          "2022v29",
          "2022v30",
          "2022v31",
          "2022v32",
          "2022v33",
          "2022v34",
          "2022v35",
          "2022v36",
          "2022v37",
          "2022v38",
          "2022v39",
          "2022v40",
          "2022v41",
          "2022v42"
         ],
         "xaxis": "x",
         "y": [
          0,
          1,
          2,
          3,
          4,
          5,
          6,
          7,
          8,
          9,
          10,
          11,
          12,
          13,
          14,
          15,
          16,
          17,
          18,
          19,
          20,
          21,
          22,
          23,
          24,
          25,
          26,
          27,
          28,
          29,
          30,
          31,
          32,
          33,
          34,
          35,
          36,
          37,
          38,
          39,
          40,
          41,
          42,
          43,
          44,
          45,
          46,
          47,
          48,
          49,
          50,
          51,
          52,
          53,
          54,
          55,
          56,
          57,
          58,
          59,
          60,
          61,
          62,
          63,
          64,
          65,
          66,
          67,
          68,
          69,
          70,
          71,
          72,
          73,
          74,
          75,
          76,
          77,
          78,
          79,
          80,
          81,
          82,
          83,
          84,
          85,
          86,
          87,
          88,
          89,
          90,
          91,
          92,
          93,
          94,
          95,
          96,
          97,
          98,
          99,
          100,
          101,
          102,
          103,
          104,
          105,
          106,
          107,
          108,
          109,
          110,
          111,
          112,
          113,
          114,
          115,
          116,
          117,
          118,
          119,
          120,
          121,
          122,
          123,
          124,
          125,
          126,
          127,
          128,
          129,
          130,
          131,
          132,
          133,
          134,
          135,
          136,
          137,
          138,
          139,
          140,
          141
         ],
         "yaxis": "y"
        },
        {
         "mode": "lines",
         "name": "Avlidna fall",
         "type": "scatter",
         "x": [
          "2020v06",
          "2020v07",
          "2020v08",
          "2020v09",
          "2020v10",
          "2020v11",
          "2020v12",
          "2020v13",
          "2020v14",
          "2020v15",
          "2020v16",
          "2020v17",
          "2020v18",
          "2020v19",
          "2020v20",
          "2020v21",
          "2020v22",
          "2020v23",
          "2020v24",
          "2020v25",
          "2020v26",
          "2020v27",
          "2020v28",
          "2020v29",
          "2020v30",
          "2020v31",
          "2020v32",
          "2020v33",
          "2020v34",
          "2020v35",
          "2020v36",
          "2020v37",
          "2020v38",
          "2020v39",
          "2020v40",
          "2020v41",
          "2020v42",
          "2020v43",
          "2020v44",
          "2020v45",
          "2020v46",
          "2020v47",
          "2020v48",
          "2020v49",
          "2020v50",
          "2020v51",
          "2020v52",
          "2020v53",
          "2021v01",
          "2021v02",
          "2021v03",
          "2021v04",
          "2021v05",
          "2021v06",
          "2021v07",
          "2021v08",
          "2021v09",
          "2021v10",
          "2021v11",
          "2021v12",
          "2021v13",
          "2021v14",
          "2021v15",
          "2021v16",
          "2021v17",
          "2021v18",
          "2021v19",
          "2021v20",
          "2021v21",
          "2021v22",
          "2021v23",
          "2021v24",
          "2021v25",
          "2021v26",
          "2021v27",
          "2021v28",
          "2021v29",
          "2021v30",
          "2021v31",
          "2021v32",
          "2021v33",
          "2021v34",
          "2021v35",
          "2021v36",
          "2021v37",
          "2021v38",
          "2021v39",
          "2021v40",
          "2021v41",
          "2021v42",
          "2021v43",
          "2021v44",
          "2021v45",
          "2021v46",
          "2021v47",
          "2021v48",
          "2021v49",
          "2021v50",
          "2021v51",
          "2021v52",
          "2022v01",
          "2022v02",
          "2022v03",
          "2022v04",
          "2022v05",
          "2022v06",
          "2022v07",
          "2022v08",
          "2022v09",
          "2022v10",
          "2022v11",
          "2022v12",
          "2022v13",
          "2022v14",
          "2022v15",
          "2022v16",
          "2022v17",
          "2022v18",
          "2022v19",
          "2022v20",
          "2022v21",
          "2022v22",
          "2022v23",
          "2022v24",
          "2022v25",
          "2022v26",
          "2022v27",
          "2022v28",
          "2022v29",
          "2022v30",
          "2022v31",
          "2022v32",
          "2022v33",
          "2022v34",
          "2022v35",
          "2022v36",
          "2022v37",
          "2022v38",
          "2022v39",
          "2022v40",
          "2022v41",
          "2022v42"
         ],
         "y": [
          0,
          0,
          0,
          0,
          0,
          5,
          44,
          190,
          451,
          664,
          657,
          546,
          543,
          509,
          380,
          360,
          272,
          246,
          234,
          200,
          138,
          98,
          84,
          57,
          30,
          18,
          18,
          16,
          19,
          10,
          12,
          13,
          12,
          11,
          17,
          22,
          16,
          43,
          82,
          157,
          235,
          332,
          417,
          476,
          500,
          645,
          643,
          663,
          644,
          598,
          513,
          389,
          269,
          205,
          172,
          146,
          129,
          141,
          127,
          126,
          142,
          133,
          141,
          131,
          115,
          107,
          111,
          70,
          47,
          39,
          22,
          17,
          9,
          8,
          3,
          2,
          3,
          4,
          7,
          7,
          11,
          20,
          25,
          49,
          51,
          43,
          39,
          49,
          32,
          23,
          30,
          33,
          31,
          30,
          15,
          29,
          38,
          49,
          44,
          70,
          130,
          172,
          243,
          301,
          359,
          329,
          361,
          319,
          273,
          204,
          195,
          157,
          122,
          120,
          71,
          70,
          51,
          52,
          42,
          41,
          26,
          23,
          28,
          22,
          36,
          42,
          59,
          62,
          114,
          95,
          110,
          119,
          133,
          85,
          96,
          85,
          95,
          88,
          92,
          88,
          73,
          25
         ]
        },
        {
         "mode": "lines",
         "name": "Nya fall",
         "type": "scatter",
         "x": [
          "2020v06",
          "2020v07",
          "2020v08",
          "2020v09",
          "2020v10",
          "2020v11",
          "2020v12",
          "2020v13",
          "2020v14",
          "2020v15",
          "2020v16",
          "2020v17",
          "2020v18",
          "2020v19",
          "2020v20",
          "2020v21",
          "2020v22",
          "2020v23",
          "2020v24",
          "2020v25",
          "2020v26",
          "2020v27",
          "2020v28",
          "2020v29",
          "2020v30",
          "2020v31",
          "2020v32",
          "2020v33",
          "2020v34",
          "2020v35",
          "2020v36",
          "2020v37",
          "2020v38",
          "2020v39",
          "2020v40",
          "2020v41",
          "2020v42",
          "2020v43",
          "2020v44",
          "2020v45",
          "2020v46",
          "2020v47",
          "2020v48",
          "2020v49",
          "2020v50",
          "2020v51",
          "2020v52",
          "2020v53",
          "2021v01",
          "2021v02",
          "2021v03",
          "2021v04",
          "2021v05",
          "2021v06",
          "2021v07",
          "2021v08",
          "2021v09",
          "2021v10",
          "2021v11",
          "2021v12",
          "2021v13",
          "2021v14",
          "2021v15",
          "2021v16",
          "2021v17",
          "2021v18",
          "2021v19",
          "2021v20",
          "2021v21",
          "2021v22",
          "2021v23",
          "2021v24",
          "2021v25",
          "2021v26",
          "2021v27",
          "2021v28",
          "2021v29",
          "2021v30",
          "2021v31",
          "2021v32",
          "2021v33",
          "2021v34",
          "2021v35",
          "2021v36",
          "2021v37",
          "2021v38",
          "2021v39",
          "2021v40",
          "2021v41",
          "2021v42",
          "2021v43",
          "2021v44",
          "2021v45",
          "2021v46",
          "2021v47",
          "2021v48",
          "2021v49",
          "2021v50",
          "2021v51",
          "2021v52",
          "2022v01",
          "2022v02",
          "2022v03",
          "2022v04",
          "2022v05",
          "2022v06",
          "2022v07",
          "2022v08",
          "2022v09",
          "2022v10",
          "2022v11",
          "2022v12",
          "2022v13",
          "2022v14",
          "2022v15",
          "2022v16",
          "2022v17",
          "2022v18",
          "2022v19",
          "2022v20",
          "2022v21",
          "2022v22",
          "2022v23",
          "2022v24",
          "2022v25",
          "2022v26",
          "2022v27",
          "2022v28",
          "2022v29",
          "2022v30",
          "2022v31",
          "2022v32",
          "2022v33",
          "2022v34",
          "2022v35",
          "2022v36",
          "2022v37",
          "2022v38",
          "2022v39",
          "2022v40",
          "2022v41",
          "2022v42"
         ],
         "y": [
          1,
          0,
          0,
          13,
          211,
          838,
          924,
          1957,
          3229,
          3740,
          3752,
          4203,
          3832,
          4153,
          3869,
          3659,
          4280,
          6021,
          7123,
          7073,
          7455,
          4279,
          2179,
          1622,
          1316,
          1556,
          2014,
          2052,
          1687,
          1200,
          1332,
          1592,
          2080,
          2919,
          3642,
          4278,
          5620,
          9155,
          18474,
          25405,
          31319,
          31944,
          35560,
          36837,
          43631,
          46177,
          37134,
          41323,
          39446,
          28935,
          23222,
          20654,
          19604,
          21282,
          23613,
          26680,
          27739,
          28555,
          33032,
          37880,
          38384,
          41142,
          41036,
          36030,
          35306,
          33678,
          25914,
          18170,
          7974,
          9094,
          4394,
          2848,
          1983,
          1870,
          1514,
          1883,
          2661,
          3460,
          4609,
          5817,
          6463,
          6685,
          7236,
          7968,
          6259,
          4305,
          4231,
          4137,
          4069,
          5194,
          5910,
          5060,
          5819,
          7093,
          11915,
          13801,
          18649,
          24485,
          27907,
          59341,
          125275,
          164692,
          256323,
          265043,
          185716,
          62338,
          22160,
          17676,
          12587,
          10110,
          8502,
          7040,
          4952,
          4091,
          3070,
          2525,
          2319,
          1940,
          1656,
          1817,
          1316,
          1255,
          1896,
          2165,
          3090,
          4118,
          4236,
          5442,
          5951,
          5705,
          6235,
          6638,
          6320,
          4868,
          4485,
          4712,
          4978,
          4669,
          13532,
          3999,
          3408,
          3279
         ]
        }
       ],
       "layout": {
        "legend": {
         "tracegroupgap": 0
        },
        "margin": {
         "t": 60
        },
        "template": {
         "data": {
          "bar": [
           {
            "error_x": {
             "color": "#2a3f5f"
            },
            "error_y": {
             "color": "#2a3f5f"
            },
            "marker": {
             "line": {
              "color": "#E5ECF6",
              "width": 0.5
             },
             "pattern": {
              "fillmode": "overlay",
              "size": 10,
              "solidity": 0.2
             }
            },
            "type": "bar"
           }
          ],
          "barpolar": [
           {
            "marker": {
             "line": {
              "color": "#E5ECF6",
              "width": 0.5
             },
             "pattern": {
              "fillmode": "overlay",
              "size": 10,
              "solidity": 0.2
             }
            },
            "type": "barpolar"
           }
          ],
          "carpet": [
           {
            "aaxis": {
             "endlinecolor": "#2a3f5f",
             "gridcolor": "white",
             "linecolor": "white",
             "minorgridcolor": "white",
             "startlinecolor": "#2a3f5f"
            },
            "baxis": {
             "endlinecolor": "#2a3f5f",
             "gridcolor": "white",
             "linecolor": "white",
             "minorgridcolor": "white",
             "startlinecolor": "#2a3f5f"
            },
            "type": "carpet"
           }
          ],
          "choropleth": [
           {
            "colorbar": {
             "outlinewidth": 0,
             "ticks": ""
            },
            "type": "choropleth"
           }
          ],
          "contour": [
           {
            "colorbar": {
             "outlinewidth": 0,
             "ticks": ""
            },
            "colorscale": [
             [
              0,
              "#0d0887"
             ],
             [
              0.1111111111111111,
              "#46039f"
             ],
             [
              0.2222222222222222,
              "#7201a8"
             ],
             [
              0.3333333333333333,
              "#9c179e"
             ],
             [
              0.4444444444444444,
              "#bd3786"
             ],
             [
              0.5555555555555556,
              "#d8576b"
             ],
             [
              0.6666666666666666,
              "#ed7953"
             ],
             [
              0.7777777777777778,
              "#fb9f3a"
             ],
             [
              0.8888888888888888,
              "#fdca26"
             ],
             [
              1,
              "#f0f921"
             ]
            ],
            "type": "contour"
           }
          ],
          "contourcarpet": [
           {
            "colorbar": {
             "outlinewidth": 0,
             "ticks": ""
            },
            "type": "contourcarpet"
           }
          ],
          "heatmap": [
           {
            "colorbar": {
             "outlinewidth": 0,
             "ticks": ""
            },
            "colorscale": [
             [
              0,
              "#0d0887"
             ],
             [
              0.1111111111111111,
              "#46039f"
             ],
             [
              0.2222222222222222,
              "#7201a8"
             ],
             [
              0.3333333333333333,
              "#9c179e"
             ],
             [
              0.4444444444444444,
              "#bd3786"
             ],
             [
              0.5555555555555556,
              "#d8576b"
             ],
             [
              0.6666666666666666,
              "#ed7953"
             ],
             [
              0.7777777777777778,
              "#fb9f3a"
             ],
             [
              0.8888888888888888,
              "#fdca26"
             ],
             [
              1,
              "#f0f921"
             ]
            ],
            "type": "heatmap"
           }
          ],
          "heatmapgl": [
           {
            "colorbar": {
             "outlinewidth": 0,
             "ticks": ""
            },
            "colorscale": [
             [
              0,
              "#0d0887"
             ],
             [
              0.1111111111111111,
              "#46039f"
             ],
             [
              0.2222222222222222,
              "#7201a8"
             ],
             [
              0.3333333333333333,
              "#9c179e"
             ],
             [
              0.4444444444444444,
              "#bd3786"
             ],
             [
              0.5555555555555556,
              "#d8576b"
             ],
             [
              0.6666666666666666,
              "#ed7953"
             ],
             [
              0.7777777777777778,
              "#fb9f3a"
             ],
             [
              0.8888888888888888,
              "#fdca26"
             ],
             [
              1,
              "#f0f921"
             ]
            ],
            "type": "heatmapgl"
           }
          ],
          "histogram": [
           {
            "marker": {
             "pattern": {
              "fillmode": "overlay",
              "size": 10,
              "solidity": 0.2
             }
            },
            "type": "histogram"
           }
          ],
          "histogram2d": [
           {
            "colorbar": {
             "outlinewidth": 0,
             "ticks": ""
            },
            "colorscale": [
             [
              0,
              "#0d0887"
             ],
             [
              0.1111111111111111,
              "#46039f"
             ],
             [
              0.2222222222222222,
              "#7201a8"
             ],
             [
              0.3333333333333333,
              "#9c179e"
             ],
             [
              0.4444444444444444,
              "#bd3786"
             ],
             [
              0.5555555555555556,
              "#d8576b"
             ],
             [
              0.6666666666666666,
              "#ed7953"
             ],
             [
              0.7777777777777778,
              "#fb9f3a"
             ],
             [
              0.8888888888888888,
              "#fdca26"
             ],
             [
              1,
              "#f0f921"
             ]
            ],
            "type": "histogram2d"
           }
          ],
          "histogram2dcontour": [
           {
            "colorbar": {
             "outlinewidth": 0,
             "ticks": ""
            },
            "colorscale": [
             [
              0,
              "#0d0887"
             ],
             [
              0.1111111111111111,
              "#46039f"
             ],
             [
              0.2222222222222222,
              "#7201a8"
             ],
             [
              0.3333333333333333,
              "#9c179e"
             ],
             [
              0.4444444444444444,
              "#bd3786"
             ],
             [
              0.5555555555555556,
              "#d8576b"
             ],
             [
              0.6666666666666666,
              "#ed7953"
             ],
             [
              0.7777777777777778,
              "#fb9f3a"
             ],
             [
              0.8888888888888888,
              "#fdca26"
             ],
             [
              1,
              "#f0f921"
             ]
            ],
            "type": "histogram2dcontour"
           }
          ],
          "mesh3d": [
           {
            "colorbar": {
             "outlinewidth": 0,
             "ticks": ""
            },
            "type": "mesh3d"
           }
          ],
          "parcoords": [
           {
            "line": {
             "colorbar": {
              "outlinewidth": 0,
              "ticks": ""
             }
            },
            "type": "parcoords"
           }
          ],
          "pie": [
           {
            "automargin": true,
            "type": "pie"
           }
          ],
          "scatter": [
           {
            "fillpattern": {
             "fillmode": "overlay",
             "size": 10,
             "solidity": 0.2
            },
            "type": "scatter"
           }
          ],
          "scatter3d": [
           {
            "line": {
             "colorbar": {
              "outlinewidth": 0,
              "ticks": ""
             }
            },
            "marker": {
             "colorbar": {
              "outlinewidth": 0,
              "ticks": ""
             }
            },
            "type": "scatter3d"
           }
          ],
          "scattercarpet": [
           {
            "marker": {
             "colorbar": {
              "outlinewidth": 0,
              "ticks": ""
             }
            },
            "type": "scattercarpet"
           }
          ],
          "scattergeo": [
           {
            "marker": {
             "colorbar": {
              "outlinewidth": 0,
              "ticks": ""
             }
            },
            "type": "scattergeo"
           }
          ],
          "scattergl": [
           {
            "marker": {
             "colorbar": {
              "outlinewidth": 0,
              "ticks": ""
             }
            },
            "type": "scattergl"
           }
          ],
          "scattermapbox": [
           {
            "marker": {
             "colorbar": {
              "outlinewidth": 0,
              "ticks": ""
             }
            },
            "type": "scattermapbox"
           }
          ],
          "scatterpolar": [
           {
            "marker": {
             "colorbar": {
              "outlinewidth": 0,
              "ticks": ""
             }
            },
            "type": "scatterpolar"
           }
          ],
          "scatterpolargl": [
           {
            "marker": {
             "colorbar": {
              "outlinewidth": 0,
              "ticks": ""
             }
            },
            "type": "scatterpolargl"
           }
          ],
          "scatterternary": [
           {
            "marker": {
             "colorbar": {
              "outlinewidth": 0,
              "ticks": ""
             }
            },
            "type": "scatterternary"
           }
          ],
          "surface": [
           {
            "colorbar": {
             "outlinewidth": 0,
             "ticks": ""
            },
            "colorscale": [
             [
              0,
              "#0d0887"
             ],
             [
              0.1111111111111111,
              "#46039f"
             ],
             [
              0.2222222222222222,
              "#7201a8"
             ],
             [
              0.3333333333333333,
              "#9c179e"
             ],
             [
              0.4444444444444444,
              "#bd3786"
             ],
             [
              0.5555555555555556,
              "#d8576b"
             ],
             [
              0.6666666666666666,
              "#ed7953"
             ],
             [
              0.7777777777777778,
              "#fb9f3a"
             ],
             [
              0.8888888888888888,
              "#fdca26"
             ],
             [
              1,
              "#f0f921"
             ]
            ],
            "type": "surface"
           }
          ],
          "table": [
           {
            "cells": {
             "fill": {
              "color": "#EBF0F8"
             },
             "line": {
              "color": "white"
             }
            },
            "header": {
             "fill": {
              "color": "#C8D4E3"
             },
             "line": {
              "color": "white"
             }
            },
            "type": "table"
           }
          ]
         },
         "layout": {
          "annotationdefaults": {
           "arrowcolor": "#2a3f5f",
           "arrowhead": 0,
           "arrowwidth": 1
          },
          "autotypenumbers": "strict",
          "coloraxis": {
           "colorbar": {
            "outlinewidth": 0,
            "ticks": ""
           }
          },
          "colorscale": {
           "diverging": [
            [
             0,
             "#8e0152"
            ],
            [
             0.1,
             "#c51b7d"
            ],
            [
             0.2,
             "#de77ae"
            ],
            [
             0.3,
             "#f1b6da"
            ],
            [
             0.4,
             "#fde0ef"
            ],
            [
             0.5,
             "#f7f7f7"
            ],
            [
             0.6,
             "#e6f5d0"
            ],
            [
             0.7,
             "#b8e186"
            ],
            [
             0.8,
             "#7fbc41"
            ],
            [
             0.9,
             "#4d9221"
            ],
            [
             1,
             "#276419"
            ]
           ],
           "sequential": [
            [
             0,
             "#0d0887"
            ],
            [
             0.1111111111111111,
             "#46039f"
            ],
            [
             0.2222222222222222,
             "#7201a8"
            ],
            [
             0.3333333333333333,
             "#9c179e"
            ],
            [
             0.4444444444444444,
             "#bd3786"
            ],
            [
             0.5555555555555556,
             "#d8576b"
            ],
            [
             0.6666666666666666,
             "#ed7953"
            ],
            [
             0.7777777777777778,
             "#fb9f3a"
            ],
            [
             0.8888888888888888,
             "#fdca26"
            ],
            [
             1,
             "#f0f921"
            ]
           ],
           "sequentialminus": [
            [
             0,
             "#0d0887"
            ],
            [
             0.1111111111111111,
             "#46039f"
            ],
            [
             0.2222222222222222,
             "#7201a8"
            ],
            [
             0.3333333333333333,
             "#9c179e"
            ],
            [
             0.4444444444444444,
             "#bd3786"
            ],
            [
             0.5555555555555556,
             "#d8576b"
            ],
            [
             0.6666666666666666,
             "#ed7953"
            ],
            [
             0.7777777777777778,
             "#fb9f3a"
            ],
            [
             0.8888888888888888,
             "#fdca26"
            ],
            [
             1,
             "#f0f921"
            ]
           ]
          },
          "colorway": [
           "#636efa",
           "#EF553B",
           "#00cc96",
           "#ab63fa",
           "#FFA15A",
           "#19d3f3",
           "#FF6692",
           "#B6E880",
           "#FF97FF",
           "#FECB52"
          ],
          "font": {
           "color": "#2a3f5f"
          },
          "geo": {
           "bgcolor": "white",
           "lakecolor": "white",
           "landcolor": "#E5ECF6",
           "showlakes": true,
           "showland": true,
           "subunitcolor": "white"
          },
          "hoverlabel": {
           "align": "left"
          },
          "hovermode": "closest",
          "mapbox": {
           "style": "light"
          },
          "paper_bgcolor": "white",
          "plot_bgcolor": "#E5ECF6",
          "polar": {
           "angularaxis": {
            "gridcolor": "white",
            "linecolor": "white",
            "ticks": ""
           },
           "bgcolor": "#E5ECF6",
           "radialaxis": {
            "gridcolor": "white",
            "linecolor": "white",
            "ticks": ""
           }
          },
          "scene": {
           "xaxis": {
            "backgroundcolor": "#E5ECF6",
            "gridcolor": "white",
            "gridwidth": 2,
            "linecolor": "white",
            "showbackground": true,
            "ticks": "",
            "zerolinecolor": "white"
           },
           "yaxis": {
            "backgroundcolor": "#E5ECF6",
            "gridcolor": "white",
            "gridwidth": 2,
            "linecolor": "white",
            "showbackground": true,
            "ticks": "",
            "zerolinecolor": "white"
           },
           "zaxis": {
            "backgroundcolor": "#E5ECF6",
            "gridcolor": "white",
            "gridwidth": 2,
            "linecolor": "white",
            "showbackground": true,
            "ticks": "",
            "zerolinecolor": "white"
           }
          },
          "shapedefaults": {
           "line": {
            "color": "#2a3f5f"
           }
          },
          "ternary": {
           "aaxis": {
            "gridcolor": "white",
            "linecolor": "white",
            "ticks": ""
           },
           "baxis": {
            "gridcolor": "white",
            "linecolor": "white",
            "ticks": ""
           },
           "bgcolor": "#E5ECF6",
           "caxis": {
            "gridcolor": "white",
            "linecolor": "white",
            "ticks": ""
           }
          },
          "title": {
           "x": 0.05
          },
          "xaxis": {
           "automargin": true,
           "gridcolor": "white",
           "linecolor": "white",
           "ticks": "",
           "title": {
            "standoff": 15
           },
           "zerolinecolor": "white",
           "zerolinewidth": 2
          },
          "yaxis": {
           "automargin": true,
           "gridcolor": "white",
           "linecolor": "white",
           "ticks": "",
           "title": {
            "standoff": 15
           },
           "zerolinecolor": "white",
           "zerolinewidth": 2
          }
         }
        },
        "title": {
         "text": "Avlidna och Nya fall per vecka"
        },
        "xaxis": {
         "anchor": "y",
         "domain": [
          0,
          1
         ],
         "title": {
          "text": "Vecka"
         }
        },
        "yaxis": {
         "anchor": "x",
         "domain": [
          0,
          1
         ],
         "title": {
          "text": "Antal fall"
         }
        }
       }
      }
     },
     "metadata": {},
     "output_type": "display_data"
    }
   ],
   "source": [
    "fig = px.line(\n",
    "    covid_data, \n",
    "    x='Vecka'\n",
    ")\n",
    "\n",
    "fig.add_scatter(x=covid_data['Vecka'], y=covid_data['Antal_avlidna_vecka'], mode='lines', name='Avlidna fall')\n",
    "fig.add_scatter(x=covid_data['Vecka'], y=covid_data['Antal_fall_vecka'],mode='lines', name='Nya fall')\n",
    "\n",
    "fig.update_layout(\n",
    "    title='Avlidna och Nya fall per vecka', \n",
    "    xaxis_title='Vecka', \n",
    "    yaxis_title='Antal fall'\n",
    ")\n",
    "save_plotly_fig(fig, \"Avlidna_och_nya_fall_per_vecka\")\n",
    "fig.show()"
   ]
  },
  {
   "cell_type": "code",
   "execution_count": 20,
   "metadata": {},
   "outputs": [
    {
     "name": "stdout",
     "output_type": "stream",
     "text": [
      "Figure saved as ../visualiseringar/Kumulativt antal fall.html\n"
     ]
    },
    {
     "data": {
      "application/vnd.plotly.v1+json": {
       "config": {
        "plotlyServerURL": "https://plot.ly"
       },
       "data": [
        {
         "hovertemplate": "Vecka=%{x}<br>Kum_antal_fall=%{y}<extra></extra>",
         "legendgroup": "",
         "line": {
          "color": "#636efa",
          "dash": "solid"
         },
         "marker": {
          "symbol": "circle"
         },
         "mode": "lines",
         "name": "",
         "orientation": "v",
         "showlegend": false,
         "type": "scatter",
         "x": [
          "2020v06",
          "2020v07",
          "2020v08",
          "2020v09",
          "2020v10",
          "2020v11",
          "2020v12",
          "2020v13",
          "2020v14",
          "2020v15",
          "2020v16",
          "2020v17",
          "2020v18",
          "2020v19",
          "2020v20",
          "2020v21",
          "2020v22",
          "2020v23",
          "2020v24",
          "2020v25",
          "2020v26",
          "2020v27",
          "2020v28",
          "2020v29",
          "2020v30",
          "2020v31",
          "2020v32",
          "2020v33",
          "2020v34",
          "2020v35",
          "2020v36",
          "2020v37",
          "2020v38",
          "2020v39",
          "2020v40",
          "2020v41",
          "2020v42",
          "2020v43",
          "2020v44",
          "2020v45",
          "2020v46",
          "2020v47",
          "2020v48",
          "2020v49",
          "2020v50",
          "2020v51",
          "2020v52",
          "2020v53",
          "2021v01",
          "2021v02",
          "2021v03",
          "2021v04",
          "2021v05",
          "2021v06",
          "2021v07",
          "2021v08",
          "2021v09",
          "2021v10",
          "2021v11",
          "2021v12",
          "2021v13",
          "2021v14",
          "2021v15",
          "2021v16",
          "2021v17",
          "2021v18",
          "2021v19",
          "2021v20",
          "2021v21",
          "2021v22",
          "2021v23",
          "2021v24",
          "2021v25",
          "2021v26",
          "2021v27",
          "2021v28",
          "2021v29",
          "2021v30",
          "2021v31",
          "2021v32",
          "2021v33",
          "2021v34",
          "2021v35",
          "2021v36",
          "2021v37",
          "2021v38",
          "2021v39",
          "2021v40",
          "2021v41",
          "2021v42",
          "2021v43",
          "2021v44",
          "2021v45",
          "2021v46",
          "2021v47",
          "2021v48",
          "2021v49",
          "2021v50",
          "2021v51",
          "2021v52",
          "2022v01",
          "2022v02",
          "2022v03",
          "2022v04",
          "2022v05",
          "2022v06",
          "2022v07",
          "2022v08",
          "2022v09",
          "2022v10",
          "2022v11",
          "2022v12",
          "2022v13",
          "2022v14",
          "2022v15",
          "2022v16",
          "2022v17",
          "2022v18",
          "2022v19",
          "2022v20",
          "2022v21",
          "2022v22",
          "2022v23",
          "2022v24",
          "2022v25",
          "2022v26",
          "2022v27",
          "2022v28",
          "2022v29",
          "2022v30",
          "2022v31",
          "2022v32",
          "2022v33",
          "2022v34",
          "2022v35",
          "2022v36",
          "2022v37",
          "2022v38",
          "2022v39",
          "2022v40",
          "2022v41",
          "2022v42"
         ],
         "xaxis": "x",
         "y": [
          1,
          1,
          1,
          14,
          225,
          1063,
          1987,
          3944,
          7173,
          10913,
          14665,
          18868,
          22700,
          26853,
          30722,
          34381,
          38661,
          44682,
          51805,
          58878,
          66333,
          70612,
          72791,
          74413,
          75729,
          77285,
          79299,
          81351,
          83038,
          84238,
          85570,
          87162,
          89242,
          92161,
          95803,
          100081,
          105701,
          114856,
          133330,
          158735,
          190054,
          221998,
          257558,
          294395,
          338026,
          384203,
          421337,
          462660,
          502106,
          531041,
          554263,
          574917,
          594521,
          615803,
          639416,
          666096,
          693835,
          722390,
          755422,
          793302,
          831686,
          872828,
          913864,
          949894,
          985200,
          1018878,
          1044792,
          1062962,
          1070936,
          1080030,
          1084424,
          1087272,
          1089255,
          1091125,
          1092639,
          1094522,
          1097183,
          1100643,
          1105252,
          1111069,
          1117532,
          1124217,
          1131453,
          1139421,
          1145680,
          1149985,
          1154216,
          1158353,
          1162422,
          1167616,
          1173526,
          1178586,
          1184405,
          1191498,
          1203413,
          1217214,
          1235863,
          1260348,
          1288255,
          1347596,
          1472871,
          1637563,
          1893886,
          2158929,
          2344645,
          2406983,
          2429143,
          2446819,
          2459406,
          2469516,
          2478018,
          2485058,
          2490010,
          2494101,
          2497171,
          2499696,
          2502015,
          2503955,
          2505611,
          2507428,
          2508744,
          2509999,
          2511895,
          2514060,
          2517150,
          2521268,
          2525504,
          2530946,
          2536897,
          2542602,
          2548837,
          2555475,
          2561795,
          2566663,
          2571148,
          2575860,
          2580838,
          2585507,
          2599039,
          2603038,
          2606446,
          2609725
         ],
         "yaxis": "y"
        }
       ],
       "layout": {
        "legend": {
         "tracegroupgap": 0
        },
        "template": {
         "data": {
          "bar": [
           {
            "error_x": {
             "color": "#2a3f5f"
            },
            "error_y": {
             "color": "#2a3f5f"
            },
            "marker": {
             "line": {
              "color": "#E5ECF6",
              "width": 0.5
             },
             "pattern": {
              "fillmode": "overlay",
              "size": 10,
              "solidity": 0.2
             }
            },
            "type": "bar"
           }
          ],
          "barpolar": [
           {
            "marker": {
             "line": {
              "color": "#E5ECF6",
              "width": 0.5
             },
             "pattern": {
              "fillmode": "overlay",
              "size": 10,
              "solidity": 0.2
             }
            },
            "type": "barpolar"
           }
          ],
          "carpet": [
           {
            "aaxis": {
             "endlinecolor": "#2a3f5f",
             "gridcolor": "white",
             "linecolor": "white",
             "minorgridcolor": "white",
             "startlinecolor": "#2a3f5f"
            },
            "baxis": {
             "endlinecolor": "#2a3f5f",
             "gridcolor": "white",
             "linecolor": "white",
             "minorgridcolor": "white",
             "startlinecolor": "#2a3f5f"
            },
            "type": "carpet"
           }
          ],
          "choropleth": [
           {
            "colorbar": {
             "outlinewidth": 0,
             "ticks": ""
            },
            "type": "choropleth"
           }
          ],
          "contour": [
           {
            "colorbar": {
             "outlinewidth": 0,
             "ticks": ""
            },
            "colorscale": [
             [
              0,
              "#0d0887"
             ],
             [
              0.1111111111111111,
              "#46039f"
             ],
             [
              0.2222222222222222,
              "#7201a8"
             ],
             [
              0.3333333333333333,
              "#9c179e"
             ],
             [
              0.4444444444444444,
              "#bd3786"
             ],
             [
              0.5555555555555556,
              "#d8576b"
             ],
             [
              0.6666666666666666,
              "#ed7953"
             ],
             [
              0.7777777777777778,
              "#fb9f3a"
             ],
             [
              0.8888888888888888,
              "#fdca26"
             ],
             [
              1,
              "#f0f921"
             ]
            ],
            "type": "contour"
           }
          ],
          "contourcarpet": [
           {
            "colorbar": {
             "outlinewidth": 0,
             "ticks": ""
            },
            "type": "contourcarpet"
           }
          ],
          "heatmap": [
           {
            "colorbar": {
             "outlinewidth": 0,
             "ticks": ""
            },
            "colorscale": [
             [
              0,
              "#0d0887"
             ],
             [
              0.1111111111111111,
              "#46039f"
             ],
             [
              0.2222222222222222,
              "#7201a8"
             ],
             [
              0.3333333333333333,
              "#9c179e"
             ],
             [
              0.4444444444444444,
              "#bd3786"
             ],
             [
              0.5555555555555556,
              "#d8576b"
             ],
             [
              0.6666666666666666,
              "#ed7953"
             ],
             [
              0.7777777777777778,
              "#fb9f3a"
             ],
             [
              0.8888888888888888,
              "#fdca26"
             ],
             [
              1,
              "#f0f921"
             ]
            ],
            "type": "heatmap"
           }
          ],
          "heatmapgl": [
           {
            "colorbar": {
             "outlinewidth": 0,
             "ticks": ""
            },
            "colorscale": [
             [
              0,
              "#0d0887"
             ],
             [
              0.1111111111111111,
              "#46039f"
             ],
             [
              0.2222222222222222,
              "#7201a8"
             ],
             [
              0.3333333333333333,
              "#9c179e"
             ],
             [
              0.4444444444444444,
              "#bd3786"
             ],
             [
              0.5555555555555556,
              "#d8576b"
             ],
             [
              0.6666666666666666,
              "#ed7953"
             ],
             [
              0.7777777777777778,
              "#fb9f3a"
             ],
             [
              0.8888888888888888,
              "#fdca26"
             ],
             [
              1,
              "#f0f921"
             ]
            ],
            "type": "heatmapgl"
           }
          ],
          "histogram": [
           {
            "marker": {
             "pattern": {
              "fillmode": "overlay",
              "size": 10,
              "solidity": 0.2
             }
            },
            "type": "histogram"
           }
          ],
          "histogram2d": [
           {
            "colorbar": {
             "outlinewidth": 0,
             "ticks": ""
            },
            "colorscale": [
             [
              0,
              "#0d0887"
             ],
             [
              0.1111111111111111,
              "#46039f"
             ],
             [
              0.2222222222222222,
              "#7201a8"
             ],
             [
              0.3333333333333333,
              "#9c179e"
             ],
             [
              0.4444444444444444,
              "#bd3786"
             ],
             [
              0.5555555555555556,
              "#d8576b"
             ],
             [
              0.6666666666666666,
              "#ed7953"
             ],
             [
              0.7777777777777778,
              "#fb9f3a"
             ],
             [
              0.8888888888888888,
              "#fdca26"
             ],
             [
              1,
              "#f0f921"
             ]
            ],
            "type": "histogram2d"
           }
          ],
          "histogram2dcontour": [
           {
            "colorbar": {
             "outlinewidth": 0,
             "ticks": ""
            },
            "colorscale": [
             [
              0,
              "#0d0887"
             ],
             [
              0.1111111111111111,
              "#46039f"
             ],
             [
              0.2222222222222222,
              "#7201a8"
             ],
             [
              0.3333333333333333,
              "#9c179e"
             ],
             [
              0.4444444444444444,
              "#bd3786"
             ],
             [
              0.5555555555555556,
              "#d8576b"
             ],
             [
              0.6666666666666666,
              "#ed7953"
             ],
             [
              0.7777777777777778,
              "#fb9f3a"
             ],
             [
              0.8888888888888888,
              "#fdca26"
             ],
             [
              1,
              "#f0f921"
             ]
            ],
            "type": "histogram2dcontour"
           }
          ],
          "mesh3d": [
           {
            "colorbar": {
             "outlinewidth": 0,
             "ticks": ""
            },
            "type": "mesh3d"
           }
          ],
          "parcoords": [
           {
            "line": {
             "colorbar": {
              "outlinewidth": 0,
              "ticks": ""
             }
            },
            "type": "parcoords"
           }
          ],
          "pie": [
           {
            "automargin": true,
            "type": "pie"
           }
          ],
          "scatter": [
           {
            "fillpattern": {
             "fillmode": "overlay",
             "size": 10,
             "solidity": 0.2
            },
            "type": "scatter"
           }
          ],
          "scatter3d": [
           {
            "line": {
             "colorbar": {
              "outlinewidth": 0,
              "ticks": ""
             }
            },
            "marker": {
             "colorbar": {
              "outlinewidth": 0,
              "ticks": ""
             }
            },
            "type": "scatter3d"
           }
          ],
          "scattercarpet": [
           {
            "marker": {
             "colorbar": {
              "outlinewidth": 0,
              "ticks": ""
             }
            },
            "type": "scattercarpet"
           }
          ],
          "scattergeo": [
           {
            "marker": {
             "colorbar": {
              "outlinewidth": 0,
              "ticks": ""
             }
            },
            "type": "scattergeo"
           }
          ],
          "scattergl": [
           {
            "marker": {
             "colorbar": {
              "outlinewidth": 0,
              "ticks": ""
             }
            },
            "type": "scattergl"
           }
          ],
          "scattermapbox": [
           {
            "marker": {
             "colorbar": {
              "outlinewidth": 0,
              "ticks": ""
             }
            },
            "type": "scattermapbox"
           }
          ],
          "scatterpolar": [
           {
            "marker": {
             "colorbar": {
              "outlinewidth": 0,
              "ticks": ""
             }
            },
            "type": "scatterpolar"
           }
          ],
          "scatterpolargl": [
           {
            "marker": {
             "colorbar": {
              "outlinewidth": 0,
              "ticks": ""
             }
            },
            "type": "scatterpolargl"
           }
          ],
          "scatterternary": [
           {
            "marker": {
             "colorbar": {
              "outlinewidth": 0,
              "ticks": ""
             }
            },
            "type": "scatterternary"
           }
          ],
          "surface": [
           {
            "colorbar": {
             "outlinewidth": 0,
             "ticks": ""
            },
            "colorscale": [
             [
              0,
              "#0d0887"
             ],
             [
              0.1111111111111111,
              "#46039f"
             ],
             [
              0.2222222222222222,
              "#7201a8"
             ],
             [
              0.3333333333333333,
              "#9c179e"
             ],
             [
              0.4444444444444444,
              "#bd3786"
             ],
             [
              0.5555555555555556,
              "#d8576b"
             ],
             [
              0.6666666666666666,
              "#ed7953"
             ],
             [
              0.7777777777777778,
              "#fb9f3a"
             ],
             [
              0.8888888888888888,
              "#fdca26"
             ],
             [
              1,
              "#f0f921"
             ]
            ],
            "type": "surface"
           }
          ],
          "table": [
           {
            "cells": {
             "fill": {
              "color": "#EBF0F8"
             },
             "line": {
              "color": "white"
             }
            },
            "header": {
             "fill": {
              "color": "#C8D4E3"
             },
             "line": {
              "color": "white"
             }
            },
            "type": "table"
           }
          ]
         },
         "layout": {
          "annotationdefaults": {
           "arrowcolor": "#2a3f5f",
           "arrowhead": 0,
           "arrowwidth": 1
          },
          "autotypenumbers": "strict",
          "coloraxis": {
           "colorbar": {
            "outlinewidth": 0,
            "ticks": ""
           }
          },
          "colorscale": {
           "diverging": [
            [
             0,
             "#8e0152"
            ],
            [
             0.1,
             "#c51b7d"
            ],
            [
             0.2,
             "#de77ae"
            ],
            [
             0.3,
             "#f1b6da"
            ],
            [
             0.4,
             "#fde0ef"
            ],
            [
             0.5,
             "#f7f7f7"
            ],
            [
             0.6,
             "#e6f5d0"
            ],
            [
             0.7,
             "#b8e186"
            ],
            [
             0.8,
             "#7fbc41"
            ],
            [
             0.9,
             "#4d9221"
            ],
            [
             1,
             "#276419"
            ]
           ],
           "sequential": [
            [
             0,
             "#0d0887"
            ],
            [
             0.1111111111111111,
             "#46039f"
            ],
            [
             0.2222222222222222,
             "#7201a8"
            ],
            [
             0.3333333333333333,
             "#9c179e"
            ],
            [
             0.4444444444444444,
             "#bd3786"
            ],
            [
             0.5555555555555556,
             "#d8576b"
            ],
            [
             0.6666666666666666,
             "#ed7953"
            ],
            [
             0.7777777777777778,
             "#fb9f3a"
            ],
            [
             0.8888888888888888,
             "#fdca26"
            ],
            [
             1,
             "#f0f921"
            ]
           ],
           "sequentialminus": [
            [
             0,
             "#0d0887"
            ],
            [
             0.1111111111111111,
             "#46039f"
            ],
            [
             0.2222222222222222,
             "#7201a8"
            ],
            [
             0.3333333333333333,
             "#9c179e"
            ],
            [
             0.4444444444444444,
             "#bd3786"
            ],
            [
             0.5555555555555556,
             "#d8576b"
            ],
            [
             0.6666666666666666,
             "#ed7953"
            ],
            [
             0.7777777777777778,
             "#fb9f3a"
            ],
            [
             0.8888888888888888,
             "#fdca26"
            ],
            [
             1,
             "#f0f921"
            ]
           ]
          },
          "colorway": [
           "#636efa",
           "#EF553B",
           "#00cc96",
           "#ab63fa",
           "#FFA15A",
           "#19d3f3",
           "#FF6692",
           "#B6E880",
           "#FF97FF",
           "#FECB52"
          ],
          "font": {
           "color": "#2a3f5f"
          },
          "geo": {
           "bgcolor": "white",
           "lakecolor": "white",
           "landcolor": "#E5ECF6",
           "showlakes": true,
           "showland": true,
           "subunitcolor": "white"
          },
          "hoverlabel": {
           "align": "left"
          },
          "hovermode": "closest",
          "mapbox": {
           "style": "light"
          },
          "paper_bgcolor": "white",
          "plot_bgcolor": "#E5ECF6",
          "polar": {
           "angularaxis": {
            "gridcolor": "white",
            "linecolor": "white",
            "ticks": ""
           },
           "bgcolor": "#E5ECF6",
           "radialaxis": {
            "gridcolor": "white",
            "linecolor": "white",
            "ticks": ""
           }
          },
          "scene": {
           "xaxis": {
            "backgroundcolor": "#E5ECF6",
            "gridcolor": "white",
            "gridwidth": 2,
            "linecolor": "white",
            "showbackground": true,
            "ticks": "",
            "zerolinecolor": "white"
           },
           "yaxis": {
            "backgroundcolor": "#E5ECF6",
            "gridcolor": "white",
            "gridwidth": 2,
            "linecolor": "white",
            "showbackground": true,
            "ticks": "",
            "zerolinecolor": "white"
           },
           "zaxis": {
            "backgroundcolor": "#E5ECF6",
            "gridcolor": "white",
            "gridwidth": 2,
            "linecolor": "white",
            "showbackground": true,
            "ticks": "",
            "zerolinecolor": "white"
           }
          },
          "shapedefaults": {
           "line": {
            "color": "#2a3f5f"
           }
          },
          "ternary": {
           "aaxis": {
            "gridcolor": "white",
            "linecolor": "white",
            "ticks": ""
           },
           "baxis": {
            "gridcolor": "white",
            "linecolor": "white",
            "ticks": ""
           },
           "bgcolor": "#E5ECF6",
           "caxis": {
            "gridcolor": "white",
            "linecolor": "white",
            "ticks": ""
           }
          },
          "title": {
           "x": 0.05
          },
          "xaxis": {
           "automargin": true,
           "gridcolor": "white",
           "linecolor": "white",
           "ticks": "",
           "title": {
            "standoff": 15
           },
           "zerolinecolor": "white",
           "zerolinewidth": 2
          },
          "yaxis": {
           "automargin": true,
           "gridcolor": "white",
           "linecolor": "white",
           "ticks": "",
           "title": {
            "standoff": 15
           },
           "zerolinecolor": "white",
           "zerolinewidth": 2
          }
         }
        },
        "title": {
         "text": "Kumulativt antal fall"
        },
        "xaxis": {
         "anchor": "y",
         "domain": [
          0,
          1
         ],
         "title": {
          "text": "Vecka"
         }
        },
        "yaxis": {
         "anchor": "x",
         "domain": [
          0,
          1
         ],
         "title": {
          "text": "Kum_antal_fall"
         }
        }
       }
      }
     },
     "metadata": {},
     "output_type": "display_data"
    }
   ],
   "source": [
    "fig = px.line(\n",
    "    covid_data, \n",
    "    x='Vecka', \n",
    "    y='Kum_antal_fall', \n",
    "    title='Kumulativt antal fall'\n",
    ")\n",
    "save_plotly_fig(fig, \"Kumulativt antal fall\")\n",
    "fig.show()"
   ]
  }
 ],
 "metadata": {
  "kernelspec": {
   "display_name": "myenv",
   "language": "python",
   "name": "myenv"
  },
  "language_info": {
   "codemirror_mode": {
    "name": "ipython",
    "version": 3
   },
   "file_extension": ".py",
   "mimetype": "text/x-python",
   "name": "python",
   "nbconvert_exporter": "python",
   "pygments_lexer": "ipython3",
   "version": "3.11.5"
  }
 },
 "nbformat": 4,
 "nbformat_minor": 2
}
